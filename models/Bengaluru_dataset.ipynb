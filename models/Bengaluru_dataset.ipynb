{
 "cells": [
  {
   "cell_type": "code",
   "execution_count": 601,
   "id": "8b2d4668",
   "metadata": {},
   "outputs": [],
   "source": [
    "import pandas as pd\n",
    "import numpy as np\n",
    "\n",
    "import matplotlib.pyplot as plt\n",
    "import seaborn as sns \n",
    "\n",
    "from sklearn.linear_model import LinearRegression,Ridge,Lasso\n",
    "from sklearn.model_selection import train_test_split\n",
    "from sklearn.metrics import mean_absolute_error,mean_squared_error,r2_score\n",
    "from statsmodels.stats.outliers_influence import variance_inflation_factor\n",
    "\n",
    "import warnings\n",
    "warnings.filterwarnings(\"ignore\")"
   ]
  },
  {
   "cell_type": "markdown",
   "id": "46c46a57",
   "metadata": {},
   "source": [
    "## Problem Statement "
   ]
  },
  {
   "cell_type": "markdown",
   "id": "805b95cd",
   "metadata": {},
   "source": [
    "To Predict The Price of Home By Considering Some Home Features "
   ]
  },
  {
   "cell_type": "markdown",
   "id": "c2571b7b",
   "metadata": {},
   "source": [
    "## Data Gathering "
   ]
  },
  {
   "cell_type": "code",
   "execution_count": 602,
   "id": "6324b2e6",
   "metadata": {},
   "outputs": [
    {
     "data": {
      "text/html": [
       "<div>\n",
       "<style scoped>\n",
       "    .dataframe tbody tr th:only-of-type {\n",
       "        vertical-align: middle;\n",
       "    }\n",
       "\n",
       "    .dataframe tbody tr th {\n",
       "        vertical-align: top;\n",
       "    }\n",
       "\n",
       "    .dataframe thead th {\n",
       "        text-align: right;\n",
       "    }\n",
       "</style>\n",
       "<table border=\"1\" class=\"dataframe\">\n",
       "  <thead>\n",
       "    <tr style=\"text-align: right;\">\n",
       "      <th></th>\n",
       "      <th>area_type</th>\n",
       "      <th>availability</th>\n",
       "      <th>location</th>\n",
       "      <th>size</th>\n",
       "      <th>society</th>\n",
       "      <th>total_sqft</th>\n",
       "      <th>bath</th>\n",
       "      <th>balcony</th>\n",
       "      <th>price</th>\n",
       "    </tr>\n",
       "  </thead>\n",
       "  <tbody>\n",
       "    <tr>\n",
       "      <th>0</th>\n",
       "      <td>Super built-up  Area</td>\n",
       "      <td>19-Dec</td>\n",
       "      <td>Electronic City Phase II</td>\n",
       "      <td>2 BHK</td>\n",
       "      <td>Coomee</td>\n",
       "      <td>1056</td>\n",
       "      <td>2.0</td>\n",
       "      <td>1.0</td>\n",
       "      <td>39.07</td>\n",
       "    </tr>\n",
       "    <tr>\n",
       "      <th>1</th>\n",
       "      <td>Plot  Area</td>\n",
       "      <td>Ready To Move</td>\n",
       "      <td>Chikka Tirupathi</td>\n",
       "      <td>4 Bedroom</td>\n",
       "      <td>Theanmp</td>\n",
       "      <td>2600</td>\n",
       "      <td>5.0</td>\n",
       "      <td>3.0</td>\n",
       "      <td>120.00</td>\n",
       "    </tr>\n",
       "    <tr>\n",
       "      <th>2</th>\n",
       "      <td>Built-up  Area</td>\n",
       "      <td>Ready To Move</td>\n",
       "      <td>Uttarahalli</td>\n",
       "      <td>3 BHK</td>\n",
       "      <td>NaN</td>\n",
       "      <td>1440</td>\n",
       "      <td>2.0</td>\n",
       "      <td>3.0</td>\n",
       "      <td>62.00</td>\n",
       "    </tr>\n",
       "    <tr>\n",
       "      <th>3</th>\n",
       "      <td>Super built-up  Area</td>\n",
       "      <td>Ready To Move</td>\n",
       "      <td>Lingadheeranahalli</td>\n",
       "      <td>3 BHK</td>\n",
       "      <td>Soiewre</td>\n",
       "      <td>1521</td>\n",
       "      <td>3.0</td>\n",
       "      <td>1.0</td>\n",
       "      <td>95.00</td>\n",
       "    </tr>\n",
       "    <tr>\n",
       "      <th>4</th>\n",
       "      <td>Super built-up  Area</td>\n",
       "      <td>Ready To Move</td>\n",
       "      <td>Kothanur</td>\n",
       "      <td>2 BHK</td>\n",
       "      <td>NaN</td>\n",
       "      <td>1200</td>\n",
       "      <td>2.0</td>\n",
       "      <td>1.0</td>\n",
       "      <td>51.00</td>\n",
       "    </tr>\n",
       "    <tr>\n",
       "      <th>...</th>\n",
       "      <td>...</td>\n",
       "      <td>...</td>\n",
       "      <td>...</td>\n",
       "      <td>...</td>\n",
       "      <td>...</td>\n",
       "      <td>...</td>\n",
       "      <td>...</td>\n",
       "      <td>...</td>\n",
       "      <td>...</td>\n",
       "    </tr>\n",
       "    <tr>\n",
       "      <th>13315</th>\n",
       "      <td>Built-up  Area</td>\n",
       "      <td>Ready To Move</td>\n",
       "      <td>Whitefield</td>\n",
       "      <td>5 Bedroom</td>\n",
       "      <td>ArsiaEx</td>\n",
       "      <td>3453</td>\n",
       "      <td>4.0</td>\n",
       "      <td>0.0</td>\n",
       "      <td>231.00</td>\n",
       "    </tr>\n",
       "    <tr>\n",
       "      <th>13316</th>\n",
       "      <td>Super built-up  Area</td>\n",
       "      <td>Ready To Move</td>\n",
       "      <td>Richards Town</td>\n",
       "      <td>4 BHK</td>\n",
       "      <td>NaN</td>\n",
       "      <td>3600</td>\n",
       "      <td>5.0</td>\n",
       "      <td>NaN</td>\n",
       "      <td>400.00</td>\n",
       "    </tr>\n",
       "    <tr>\n",
       "      <th>13317</th>\n",
       "      <td>Built-up  Area</td>\n",
       "      <td>Ready To Move</td>\n",
       "      <td>Raja Rajeshwari Nagar</td>\n",
       "      <td>2 BHK</td>\n",
       "      <td>Mahla T</td>\n",
       "      <td>1141</td>\n",
       "      <td>2.0</td>\n",
       "      <td>1.0</td>\n",
       "      <td>60.00</td>\n",
       "    </tr>\n",
       "    <tr>\n",
       "      <th>13318</th>\n",
       "      <td>Super built-up  Area</td>\n",
       "      <td>18-Jun</td>\n",
       "      <td>Padmanabhanagar</td>\n",
       "      <td>4 BHK</td>\n",
       "      <td>SollyCl</td>\n",
       "      <td>4689</td>\n",
       "      <td>4.0</td>\n",
       "      <td>1.0</td>\n",
       "      <td>488.00</td>\n",
       "    </tr>\n",
       "    <tr>\n",
       "      <th>13319</th>\n",
       "      <td>Super built-up  Area</td>\n",
       "      <td>Ready To Move</td>\n",
       "      <td>Doddathoguru</td>\n",
       "      <td>1 BHK</td>\n",
       "      <td>NaN</td>\n",
       "      <td>550</td>\n",
       "      <td>1.0</td>\n",
       "      <td>1.0</td>\n",
       "      <td>17.00</td>\n",
       "    </tr>\n",
       "  </tbody>\n",
       "</table>\n",
       "<p>13320 rows × 9 columns</p>\n",
       "</div>"
      ],
      "text/plain": [
       "                  area_type   availability                  location  \\\n",
       "0      Super built-up  Area         19-Dec  Electronic City Phase II   \n",
       "1                Plot  Area  Ready To Move          Chikka Tirupathi   \n",
       "2            Built-up  Area  Ready To Move               Uttarahalli   \n",
       "3      Super built-up  Area  Ready To Move        Lingadheeranahalli   \n",
       "4      Super built-up  Area  Ready To Move                  Kothanur   \n",
       "...                     ...            ...                       ...   \n",
       "13315        Built-up  Area  Ready To Move                Whitefield   \n",
       "13316  Super built-up  Area  Ready To Move             Richards Town   \n",
       "13317        Built-up  Area  Ready To Move     Raja Rajeshwari Nagar   \n",
       "13318  Super built-up  Area         18-Jun           Padmanabhanagar   \n",
       "13319  Super built-up  Area  Ready To Move              Doddathoguru   \n",
       "\n",
       "            size  society total_sqft  bath  balcony   price  \n",
       "0          2 BHK  Coomee        1056   2.0      1.0   39.07  \n",
       "1      4 Bedroom  Theanmp       2600   5.0      3.0  120.00  \n",
       "2          3 BHK      NaN       1440   2.0      3.0   62.00  \n",
       "3          3 BHK  Soiewre       1521   3.0      1.0   95.00  \n",
       "4          2 BHK      NaN       1200   2.0      1.0   51.00  \n",
       "...          ...      ...        ...   ...      ...     ...  \n",
       "13315  5 Bedroom  ArsiaEx       3453   4.0      0.0  231.00  \n",
       "13316      4 BHK      NaN       3600   5.0      NaN  400.00  \n",
       "13317      2 BHK  Mahla T       1141   2.0      1.0   60.00  \n",
       "13318      4 BHK  SollyCl       4689   4.0      1.0  488.00  \n",
       "13319      1 BHK      NaN        550   1.0      1.0   17.00  \n",
       "\n",
       "[13320 rows x 9 columns]"
      ]
     },
     "execution_count": 602,
     "metadata": {},
     "output_type": "execute_result"
    }
   ],
   "source": [
    "df = pd.read_csv(\"Bengaluru_House_Data.csv\")\n",
    "df"
   ]
  },
  {
   "cell_type": "markdown",
   "id": "c15f8957",
   "metadata": {},
   "source": [
    "## EDA ---> Exploratory Data Analysis "
   ]
  },
  {
   "cell_type": "code",
   "execution_count": 603,
   "id": "2f636afe",
   "metadata": {},
   "outputs": [
    {
     "name": "stdout",
     "output_type": "stream",
     "text": [
      "<class 'pandas.core.frame.DataFrame'>\n",
      "RangeIndex: 13320 entries, 0 to 13319\n",
      "Data columns (total 9 columns):\n",
      " #   Column        Non-Null Count  Dtype  \n",
      "---  ------        --------------  -----  \n",
      " 0   area_type     13320 non-null  object \n",
      " 1   availability  13320 non-null  object \n",
      " 2   location      13319 non-null  object \n",
      " 3   size          13304 non-null  object \n",
      " 4   society       7818 non-null   object \n",
      " 5   total_sqft    13320 non-null  object \n",
      " 6   bath          13247 non-null  float64\n",
      " 7   balcony       12711 non-null  float64\n",
      " 8   price         13320 non-null  float64\n",
      "dtypes: float64(3), object(6)\n",
      "memory usage: 936.7+ KB\n"
     ]
    }
   ],
   "source": [
    "df.info()"
   ]
  },
  {
   "cell_type": "code",
   "execution_count": 604,
   "id": "0b1e9122",
   "metadata": {},
   "outputs": [
    {
     "data": {
      "text/plain": [
       "area_type        0.000000\n",
       "availability     0.000000\n",
       "location         0.007508\n",
       "size             0.120120\n",
       "society         41.306306\n",
       "total_sqft       0.000000\n",
       "bath             0.548048\n",
       "balcony          4.572072\n",
       "price            0.000000\n",
       "dtype: float64"
      ]
     },
     "execution_count": 604,
     "metadata": {},
     "output_type": "execute_result"
    }
   ],
   "source": [
    "df.isna().mean()*100"
   ]
  },
  {
   "cell_type": "code",
   "execution_count": 605,
   "id": "c856bd84",
   "metadata": {},
   "outputs": [],
   "source": [
    "df.drop(\"society\",axis=1,inplace=True)"
   ]
  },
  {
   "cell_type": "markdown",
   "id": "3e70ad3a",
   "metadata": {},
   "source": [
    "#### 1. df[\"area_type\"]"
   ]
  },
  {
   "cell_type": "code",
   "execution_count": 606,
   "id": "6522da2b",
   "metadata": {},
   "outputs": [
    {
     "data": {
      "text/plain": [
       "array(['Super built-up  Area', 'Plot  Area', 'Built-up  Area',\n",
       "       'Carpet  Area'], dtype=object)"
      ]
     },
     "execution_count": 606,
     "metadata": {},
     "output_type": "execute_result"
    }
   ],
   "source": [
    "df[\"area_type\"].unique()"
   ]
  },
  {
   "cell_type": "code",
   "execution_count": 607,
   "id": "eb192e2b",
   "metadata": {},
   "outputs": [
    {
     "data": {
      "text/plain": [
       "4"
      ]
     },
     "execution_count": 607,
     "metadata": {},
     "output_type": "execute_result"
    }
   ],
   "source": [
    "df[\"area_type\"].nunique()"
   ]
  },
  {
   "cell_type": "code",
   "execution_count": 608,
   "id": "42c68c77",
   "metadata": {},
   "outputs": [
    {
     "data": {
      "text/plain": [
       "Super built-up  Area    8790\n",
       "Built-up  Area          2418\n",
       "Plot  Area              2025\n",
       "Carpet  Area              87\n",
       "Name: area_type, dtype: int64"
      ]
     },
     "execution_count": 608,
     "metadata": {},
     "output_type": "execute_result"
    }
   ],
   "source": [
    "df[\"area_type\"].value_counts()"
   ]
  },
  {
   "cell_type": "code",
   "execution_count": 609,
   "id": "0fde126f",
   "metadata": {},
   "outputs": [
    {
     "data": {
      "text/plain": [
       "0"
      ]
     },
     "execution_count": 609,
     "metadata": {},
     "output_type": "execute_result"
    }
   ],
   "source": [
    "df[\"area_type\"].isna().sum()"
   ]
  },
  {
   "cell_type": "code",
   "execution_count": 610,
   "id": "6e712780",
   "metadata": {},
   "outputs": [
    {
     "data": {
      "text/html": [
       "<div>\n",
       "<style scoped>\n",
       "    .dataframe tbody tr th:only-of-type {\n",
       "        vertical-align: middle;\n",
       "    }\n",
       "\n",
       "    .dataframe tbody tr th {\n",
       "        vertical-align: top;\n",
       "    }\n",
       "\n",
       "    .dataframe thead th {\n",
       "        text-align: right;\n",
       "    }\n",
       "</style>\n",
       "<table border=\"1\" class=\"dataframe\">\n",
       "  <thead>\n",
       "    <tr style=\"text-align: right;\">\n",
       "      <th></th>\n",
       "      <th>availability</th>\n",
       "      <th>location</th>\n",
       "      <th>size</th>\n",
       "      <th>total_sqft</th>\n",
       "      <th>bath</th>\n",
       "      <th>balcony</th>\n",
       "      <th>price</th>\n",
       "      <th>area_type_Built-up  Area</th>\n",
       "      <th>area_type_Carpet  Area</th>\n",
       "      <th>area_type_Plot  Area</th>\n",
       "      <th>area_type_Super built-up  Area</th>\n",
       "    </tr>\n",
       "  </thead>\n",
       "  <tbody>\n",
       "    <tr>\n",
       "      <th>0</th>\n",
       "      <td>19-Dec</td>\n",
       "      <td>Electronic City Phase II</td>\n",
       "      <td>2 BHK</td>\n",
       "      <td>1056</td>\n",
       "      <td>2.0</td>\n",
       "      <td>1.0</td>\n",
       "      <td>39.07</td>\n",
       "      <td>0</td>\n",
       "      <td>0</td>\n",
       "      <td>0</td>\n",
       "      <td>1</td>\n",
       "    </tr>\n",
       "    <tr>\n",
       "      <th>1</th>\n",
       "      <td>Ready To Move</td>\n",
       "      <td>Chikka Tirupathi</td>\n",
       "      <td>4 Bedroom</td>\n",
       "      <td>2600</td>\n",
       "      <td>5.0</td>\n",
       "      <td>3.0</td>\n",
       "      <td>120.00</td>\n",
       "      <td>0</td>\n",
       "      <td>0</td>\n",
       "      <td>1</td>\n",
       "      <td>0</td>\n",
       "    </tr>\n",
       "    <tr>\n",
       "      <th>2</th>\n",
       "      <td>Ready To Move</td>\n",
       "      <td>Uttarahalli</td>\n",
       "      <td>3 BHK</td>\n",
       "      <td>1440</td>\n",
       "      <td>2.0</td>\n",
       "      <td>3.0</td>\n",
       "      <td>62.00</td>\n",
       "      <td>1</td>\n",
       "      <td>0</td>\n",
       "      <td>0</td>\n",
       "      <td>0</td>\n",
       "    </tr>\n",
       "    <tr>\n",
       "      <th>3</th>\n",
       "      <td>Ready To Move</td>\n",
       "      <td>Lingadheeranahalli</td>\n",
       "      <td>3 BHK</td>\n",
       "      <td>1521</td>\n",
       "      <td>3.0</td>\n",
       "      <td>1.0</td>\n",
       "      <td>95.00</td>\n",
       "      <td>0</td>\n",
       "      <td>0</td>\n",
       "      <td>0</td>\n",
       "      <td>1</td>\n",
       "    </tr>\n",
       "    <tr>\n",
       "      <th>4</th>\n",
       "      <td>Ready To Move</td>\n",
       "      <td>Kothanur</td>\n",
       "      <td>2 BHK</td>\n",
       "      <td>1200</td>\n",
       "      <td>2.0</td>\n",
       "      <td>1.0</td>\n",
       "      <td>51.00</td>\n",
       "      <td>0</td>\n",
       "      <td>0</td>\n",
       "      <td>0</td>\n",
       "      <td>1</td>\n",
       "    </tr>\n",
       "    <tr>\n",
       "      <th>...</th>\n",
       "      <td>...</td>\n",
       "      <td>...</td>\n",
       "      <td>...</td>\n",
       "      <td>...</td>\n",
       "      <td>...</td>\n",
       "      <td>...</td>\n",
       "      <td>...</td>\n",
       "      <td>...</td>\n",
       "      <td>...</td>\n",
       "      <td>...</td>\n",
       "      <td>...</td>\n",
       "    </tr>\n",
       "    <tr>\n",
       "      <th>13315</th>\n",
       "      <td>Ready To Move</td>\n",
       "      <td>Whitefield</td>\n",
       "      <td>5 Bedroom</td>\n",
       "      <td>3453</td>\n",
       "      <td>4.0</td>\n",
       "      <td>0.0</td>\n",
       "      <td>231.00</td>\n",
       "      <td>1</td>\n",
       "      <td>0</td>\n",
       "      <td>0</td>\n",
       "      <td>0</td>\n",
       "    </tr>\n",
       "    <tr>\n",
       "      <th>13316</th>\n",
       "      <td>Ready To Move</td>\n",
       "      <td>Richards Town</td>\n",
       "      <td>4 BHK</td>\n",
       "      <td>3600</td>\n",
       "      <td>5.0</td>\n",
       "      <td>NaN</td>\n",
       "      <td>400.00</td>\n",
       "      <td>0</td>\n",
       "      <td>0</td>\n",
       "      <td>0</td>\n",
       "      <td>1</td>\n",
       "    </tr>\n",
       "    <tr>\n",
       "      <th>13317</th>\n",
       "      <td>Ready To Move</td>\n",
       "      <td>Raja Rajeshwari Nagar</td>\n",
       "      <td>2 BHK</td>\n",
       "      <td>1141</td>\n",
       "      <td>2.0</td>\n",
       "      <td>1.0</td>\n",
       "      <td>60.00</td>\n",
       "      <td>1</td>\n",
       "      <td>0</td>\n",
       "      <td>0</td>\n",
       "      <td>0</td>\n",
       "    </tr>\n",
       "    <tr>\n",
       "      <th>13318</th>\n",
       "      <td>18-Jun</td>\n",
       "      <td>Padmanabhanagar</td>\n",
       "      <td>4 BHK</td>\n",
       "      <td>4689</td>\n",
       "      <td>4.0</td>\n",
       "      <td>1.0</td>\n",
       "      <td>488.00</td>\n",
       "      <td>0</td>\n",
       "      <td>0</td>\n",
       "      <td>0</td>\n",
       "      <td>1</td>\n",
       "    </tr>\n",
       "    <tr>\n",
       "      <th>13319</th>\n",
       "      <td>Ready To Move</td>\n",
       "      <td>Doddathoguru</td>\n",
       "      <td>1 BHK</td>\n",
       "      <td>550</td>\n",
       "      <td>1.0</td>\n",
       "      <td>1.0</td>\n",
       "      <td>17.00</td>\n",
       "      <td>0</td>\n",
       "      <td>0</td>\n",
       "      <td>0</td>\n",
       "      <td>1</td>\n",
       "    </tr>\n",
       "  </tbody>\n",
       "</table>\n",
       "<p>13320 rows × 11 columns</p>\n",
       "</div>"
      ],
      "text/plain": [
       "        availability                  location       size total_sqft  bath  \\\n",
       "0             19-Dec  Electronic City Phase II      2 BHK       1056   2.0   \n",
       "1      Ready To Move          Chikka Tirupathi  4 Bedroom       2600   5.0   \n",
       "2      Ready To Move               Uttarahalli      3 BHK       1440   2.0   \n",
       "3      Ready To Move        Lingadheeranahalli      3 BHK       1521   3.0   \n",
       "4      Ready To Move                  Kothanur      2 BHK       1200   2.0   \n",
       "...              ...                       ...        ...        ...   ...   \n",
       "13315  Ready To Move                Whitefield  5 Bedroom       3453   4.0   \n",
       "13316  Ready To Move             Richards Town      4 BHK       3600   5.0   \n",
       "13317  Ready To Move     Raja Rajeshwari Nagar      2 BHK       1141   2.0   \n",
       "13318         18-Jun           Padmanabhanagar      4 BHK       4689   4.0   \n",
       "13319  Ready To Move              Doddathoguru      1 BHK        550   1.0   \n",
       "\n",
       "       balcony   price  area_type_Built-up  Area  area_type_Carpet  Area  \\\n",
       "0          1.0   39.07                         0                       0   \n",
       "1          3.0  120.00                         0                       0   \n",
       "2          3.0   62.00                         1                       0   \n",
       "3          1.0   95.00                         0                       0   \n",
       "4          1.0   51.00                         0                       0   \n",
       "...        ...     ...                       ...                     ...   \n",
       "13315      0.0  231.00                         1                       0   \n",
       "13316      NaN  400.00                         0                       0   \n",
       "13317      1.0   60.00                         1                       0   \n",
       "13318      1.0  488.00                         0                       0   \n",
       "13319      1.0   17.00                         0                       0   \n",
       "\n",
       "       area_type_Plot  Area  area_type_Super built-up  Area  \n",
       "0                         0                               1  \n",
       "1                         1                               0  \n",
       "2                         0                               0  \n",
       "3                         0                               1  \n",
       "4                         0                               1  \n",
       "...                     ...                             ...  \n",
       "13315                     0                               0  \n",
       "13316                     0                               1  \n",
       "13317                     0                               0  \n",
       "13318                     0                               1  \n",
       "13319                     0                               1  \n",
       "\n",
       "[13320 rows x 11 columns]"
      ]
     },
     "execution_count": 610,
     "metadata": {},
     "output_type": "execute_result"
    }
   ],
   "source": [
    "df = pd.get_dummies(df,columns=[\"area_type\"])\n",
    "df"
   ]
  },
  {
   "cell_type": "code",
   "execution_count": 611,
   "id": "9f848ea7",
   "metadata": {},
   "outputs": [],
   "source": [
    "df[\"area_type_Built_up_Area\"] = df[\"area_type_Built-up  Area\"]"
   ]
  },
  {
   "cell_type": "code",
   "execution_count": 612,
   "id": "f0a6a349",
   "metadata": {},
   "outputs": [],
   "source": [
    "df[\"area_type_Carpet_Area\"] = df[\"area_type_Carpet  Area\"] "
   ]
  },
  {
   "cell_type": "code",
   "execution_count": 613,
   "id": "5d62b6cd",
   "metadata": {},
   "outputs": [],
   "source": [
    "df[\"area_type_Plot_Area\"] = df[\"area_type_Plot  Area\"]"
   ]
  },
  {
   "cell_type": "code",
   "execution_count": 614,
   "id": "86fc463d",
   "metadata": {},
   "outputs": [],
   "source": [
    "df[\"area_type_Super_built_up_Area\"] = df[\"area_type_Super built-up  Area\"]"
   ]
  },
  {
   "cell_type": "code",
   "execution_count": 615,
   "id": "92825fa4",
   "metadata": {},
   "outputs": [],
   "source": [
    "df.drop(df.iloc[:,7:11],axis=1,inplace=True)"
   ]
  },
  {
   "cell_type": "code",
   "execution_count": 616,
   "id": "be00921b",
   "metadata": {},
   "outputs": [
    {
     "data": {
      "text/html": [
       "<div>\n",
       "<style scoped>\n",
       "    .dataframe tbody tr th:only-of-type {\n",
       "        vertical-align: middle;\n",
       "    }\n",
       "\n",
       "    .dataframe tbody tr th {\n",
       "        vertical-align: top;\n",
       "    }\n",
       "\n",
       "    .dataframe thead th {\n",
       "        text-align: right;\n",
       "    }\n",
       "</style>\n",
       "<table border=\"1\" class=\"dataframe\">\n",
       "  <thead>\n",
       "    <tr style=\"text-align: right;\">\n",
       "      <th></th>\n",
       "      <th>availability</th>\n",
       "      <th>location</th>\n",
       "      <th>size</th>\n",
       "      <th>total_sqft</th>\n",
       "      <th>bath</th>\n",
       "      <th>balcony</th>\n",
       "      <th>price</th>\n",
       "      <th>area_type_Built_up_Area</th>\n",
       "      <th>area_type_Carpet_Area</th>\n",
       "      <th>area_type_Plot_Area</th>\n",
       "      <th>area_type_Super_built_up_Area</th>\n",
       "    </tr>\n",
       "  </thead>\n",
       "  <tbody>\n",
       "    <tr>\n",
       "      <th>0</th>\n",
       "      <td>19-Dec</td>\n",
       "      <td>Electronic City Phase II</td>\n",
       "      <td>2 BHK</td>\n",
       "      <td>1056</td>\n",
       "      <td>2.0</td>\n",
       "      <td>1.0</td>\n",
       "      <td>39.07</td>\n",
       "      <td>0</td>\n",
       "      <td>0</td>\n",
       "      <td>0</td>\n",
       "      <td>1</td>\n",
       "    </tr>\n",
       "    <tr>\n",
       "      <th>1</th>\n",
       "      <td>Ready To Move</td>\n",
       "      <td>Chikka Tirupathi</td>\n",
       "      <td>4 Bedroom</td>\n",
       "      <td>2600</td>\n",
       "      <td>5.0</td>\n",
       "      <td>3.0</td>\n",
       "      <td>120.00</td>\n",
       "      <td>0</td>\n",
       "      <td>0</td>\n",
       "      <td>1</td>\n",
       "      <td>0</td>\n",
       "    </tr>\n",
       "    <tr>\n",
       "      <th>2</th>\n",
       "      <td>Ready To Move</td>\n",
       "      <td>Uttarahalli</td>\n",
       "      <td>3 BHK</td>\n",
       "      <td>1440</td>\n",
       "      <td>2.0</td>\n",
       "      <td>3.0</td>\n",
       "      <td>62.00</td>\n",
       "      <td>1</td>\n",
       "      <td>0</td>\n",
       "      <td>0</td>\n",
       "      <td>0</td>\n",
       "    </tr>\n",
       "    <tr>\n",
       "      <th>3</th>\n",
       "      <td>Ready To Move</td>\n",
       "      <td>Lingadheeranahalli</td>\n",
       "      <td>3 BHK</td>\n",
       "      <td>1521</td>\n",
       "      <td>3.0</td>\n",
       "      <td>1.0</td>\n",
       "      <td>95.00</td>\n",
       "      <td>0</td>\n",
       "      <td>0</td>\n",
       "      <td>0</td>\n",
       "      <td>1</td>\n",
       "    </tr>\n",
       "    <tr>\n",
       "      <th>4</th>\n",
       "      <td>Ready To Move</td>\n",
       "      <td>Kothanur</td>\n",
       "      <td>2 BHK</td>\n",
       "      <td>1200</td>\n",
       "      <td>2.0</td>\n",
       "      <td>1.0</td>\n",
       "      <td>51.00</td>\n",
       "      <td>0</td>\n",
       "      <td>0</td>\n",
       "      <td>0</td>\n",
       "      <td>1</td>\n",
       "    </tr>\n",
       "    <tr>\n",
       "      <th>...</th>\n",
       "      <td>...</td>\n",
       "      <td>...</td>\n",
       "      <td>...</td>\n",
       "      <td>...</td>\n",
       "      <td>...</td>\n",
       "      <td>...</td>\n",
       "      <td>...</td>\n",
       "      <td>...</td>\n",
       "      <td>...</td>\n",
       "      <td>...</td>\n",
       "      <td>...</td>\n",
       "    </tr>\n",
       "    <tr>\n",
       "      <th>13315</th>\n",
       "      <td>Ready To Move</td>\n",
       "      <td>Whitefield</td>\n",
       "      <td>5 Bedroom</td>\n",
       "      <td>3453</td>\n",
       "      <td>4.0</td>\n",
       "      <td>0.0</td>\n",
       "      <td>231.00</td>\n",
       "      <td>1</td>\n",
       "      <td>0</td>\n",
       "      <td>0</td>\n",
       "      <td>0</td>\n",
       "    </tr>\n",
       "    <tr>\n",
       "      <th>13316</th>\n",
       "      <td>Ready To Move</td>\n",
       "      <td>Richards Town</td>\n",
       "      <td>4 BHK</td>\n",
       "      <td>3600</td>\n",
       "      <td>5.0</td>\n",
       "      <td>NaN</td>\n",
       "      <td>400.00</td>\n",
       "      <td>0</td>\n",
       "      <td>0</td>\n",
       "      <td>0</td>\n",
       "      <td>1</td>\n",
       "    </tr>\n",
       "    <tr>\n",
       "      <th>13317</th>\n",
       "      <td>Ready To Move</td>\n",
       "      <td>Raja Rajeshwari Nagar</td>\n",
       "      <td>2 BHK</td>\n",
       "      <td>1141</td>\n",
       "      <td>2.0</td>\n",
       "      <td>1.0</td>\n",
       "      <td>60.00</td>\n",
       "      <td>1</td>\n",
       "      <td>0</td>\n",
       "      <td>0</td>\n",
       "      <td>0</td>\n",
       "    </tr>\n",
       "    <tr>\n",
       "      <th>13318</th>\n",
       "      <td>18-Jun</td>\n",
       "      <td>Padmanabhanagar</td>\n",
       "      <td>4 BHK</td>\n",
       "      <td>4689</td>\n",
       "      <td>4.0</td>\n",
       "      <td>1.0</td>\n",
       "      <td>488.00</td>\n",
       "      <td>0</td>\n",
       "      <td>0</td>\n",
       "      <td>0</td>\n",
       "      <td>1</td>\n",
       "    </tr>\n",
       "    <tr>\n",
       "      <th>13319</th>\n",
       "      <td>Ready To Move</td>\n",
       "      <td>Doddathoguru</td>\n",
       "      <td>1 BHK</td>\n",
       "      <td>550</td>\n",
       "      <td>1.0</td>\n",
       "      <td>1.0</td>\n",
       "      <td>17.00</td>\n",
       "      <td>0</td>\n",
       "      <td>0</td>\n",
       "      <td>0</td>\n",
       "      <td>1</td>\n",
       "    </tr>\n",
       "  </tbody>\n",
       "</table>\n",
       "<p>13320 rows × 11 columns</p>\n",
       "</div>"
      ],
      "text/plain": [
       "        availability                  location       size total_sqft  bath  \\\n",
       "0             19-Dec  Electronic City Phase II      2 BHK       1056   2.0   \n",
       "1      Ready To Move          Chikka Tirupathi  4 Bedroom       2600   5.0   \n",
       "2      Ready To Move               Uttarahalli      3 BHK       1440   2.0   \n",
       "3      Ready To Move        Lingadheeranahalli      3 BHK       1521   3.0   \n",
       "4      Ready To Move                  Kothanur      2 BHK       1200   2.0   \n",
       "...              ...                       ...        ...        ...   ...   \n",
       "13315  Ready To Move                Whitefield  5 Bedroom       3453   4.0   \n",
       "13316  Ready To Move             Richards Town      4 BHK       3600   5.0   \n",
       "13317  Ready To Move     Raja Rajeshwari Nagar      2 BHK       1141   2.0   \n",
       "13318         18-Jun           Padmanabhanagar      4 BHK       4689   4.0   \n",
       "13319  Ready To Move              Doddathoguru      1 BHK        550   1.0   \n",
       "\n",
       "       balcony   price  area_type_Built_up_Area  area_type_Carpet_Area  \\\n",
       "0          1.0   39.07                        0                      0   \n",
       "1          3.0  120.00                        0                      0   \n",
       "2          3.0   62.00                        1                      0   \n",
       "3          1.0   95.00                        0                      0   \n",
       "4          1.0   51.00                        0                      0   \n",
       "...        ...     ...                      ...                    ...   \n",
       "13315      0.0  231.00                        1                      0   \n",
       "13316      NaN  400.00                        0                      0   \n",
       "13317      1.0   60.00                        1                      0   \n",
       "13318      1.0  488.00                        0                      0   \n",
       "13319      1.0   17.00                        0                      0   \n",
       "\n",
       "       area_type_Plot_Area  area_type_Super_built_up_Area  \n",
       "0                        0                              1  \n",
       "1                        1                              0  \n",
       "2                        0                              0  \n",
       "3                        0                              1  \n",
       "4                        0                              1  \n",
       "...                    ...                            ...  \n",
       "13315                    0                              0  \n",
       "13316                    0                              1  \n",
       "13317                    0                              0  \n",
       "13318                    0                              1  \n",
       "13319                    0                              1  \n",
       "\n",
       "[13320 rows x 11 columns]"
      ]
     },
     "execution_count": 616,
     "metadata": {},
     "output_type": "execute_result"
    }
   ],
   "source": [
    "df"
   ]
  },
  {
   "cell_type": "markdown",
   "id": "c2146a9b",
   "metadata": {},
   "source": [
    "#### 2. df[\"availability\"]"
   ]
  },
  {
   "cell_type": "code",
   "execution_count": 617,
   "id": "d34562ef",
   "metadata": {},
   "outputs": [
    {
     "data": {
      "text/plain": [
       "81"
      ]
     },
     "execution_count": 617,
     "metadata": {},
     "output_type": "execute_result"
    }
   ],
   "source": [
    "df[\"availability\"].nunique()"
   ]
  },
  {
   "cell_type": "code",
   "execution_count": 618,
   "id": "5827d637",
   "metadata": {},
   "outputs": [
    {
     "data": {
      "text/plain": [
       "array(['19-Dec', 'Ready To Move', '18-May', '18-Feb', '18-Nov', '20-Dec',\n",
       "       '17-Oct', '21-Dec', '19-Sep', '20-Sep', '18-Mar', '20-Feb',\n",
       "       '18-Apr', '20-Aug', '18-Oct', '19-Mar', '17-Sep', '18-Dec',\n",
       "       '17-Aug', '19-Apr', '18-Jun', '22-Dec', '22-Jan', '18-Aug',\n",
       "       '19-Jan', '17-Jul', '18-Jul', '21-Jun', '20-May', '19-Aug',\n",
       "       '18-Sep', '17-May', '17-Jun', '21-May', '18-Jan', '20-Mar',\n",
       "       '17-Dec', '16-Mar', '19-Jun', '22-Jun', '19-Jul', '21-Feb',\n",
       "       'Immediate Possession', '19-May', '17-Nov', '20-Oct', '20-Jun',\n",
       "       '19-Feb', '21-Oct', '21-Jan', '17-Mar', '17-Apr', '22-May',\n",
       "       '19-Oct', '21-Jul', '21-Nov', '21-Mar', '16-Dec', '22-Mar',\n",
       "       '20-Jan', '21-Sep', '21-Aug', '14-Nov', '19-Nov', '15-Nov',\n",
       "       '16-Jul', '15-Jun', '17-Feb', '20-Nov', '20-Jul', '16-Sep',\n",
       "       '15-Oct', '15-Dec', '16-Oct', '22-Nov', '15-Aug', '17-Jan',\n",
       "       '16-Nov', '20-Apr', '16-Jan', '14-Jul'], dtype=object)"
      ]
     },
     "execution_count": 618,
     "metadata": {},
     "output_type": "execute_result"
    }
   ],
   "source": [
    "df[\"availability\"].unique()"
   ]
  },
  {
   "cell_type": "code",
   "execution_count": 619,
   "id": "65fe544a",
   "metadata": {},
   "outputs": [],
   "source": [
    "df[\"availability\"].replace({\"Ready To Move\":'01-Jan'},inplace=True)\n",
    "df[\"availability\"].replace({\"Immediate Possession\":'02-Jan'},inplace=True)"
   ]
  },
  {
   "cell_type": "code",
   "execution_count": 620,
   "id": "3b9e6f00",
   "metadata": {},
   "outputs": [
    {
     "data": {
      "text/plain": [
       "(2, 1)"
      ]
     },
     "execution_count": 620,
     "metadata": {},
     "output_type": "execute_result"
    }
   ],
   "source": [
    "import re \n",
    "import datetime\n",
    "\n",
    "def availability(a,a1 = \"%d-%b\"):\n",
    "    lst = []\n",
    "    b = datetime.datetime.strptime(a,a1).date()\n",
    "    date = b.day\n",
    "    month = b.month\n",
    "    lst.append(month)\n",
    "    lst.append(date)\n",
    "#     print(date)\n",
    "#     print(month)\n",
    "    return date , month\n",
    "a = '02-Jan'\n",
    "\n",
    "availability(a)"
   ]
  },
  {
   "cell_type": "code",
   "execution_count": 621,
   "id": "b640ce92",
   "metadata": {},
   "outputs": [],
   "source": [
    "df[\"availability\"] = df[\"availability\"].apply(availability)"
   ]
  },
  {
   "cell_type": "code",
   "execution_count": 622,
   "id": "c95332e6",
   "metadata": {},
   "outputs": [],
   "source": [
    "# df[\"availability\"] = df[\"availability\"].apply(lambda x: str(x))"
   ]
  },
  {
   "cell_type": "code",
   "execution_count": 623,
   "id": "e8f7ca74",
   "metadata": {},
   "outputs": [
    {
     "data": {
      "text/plain": [
       "0        (19, 12)\n",
       "1          (1, 1)\n",
       "2          (1, 1)\n",
       "3          (1, 1)\n",
       "4          (1, 1)\n",
       "           ...   \n",
       "13315      (1, 1)\n",
       "13316      (1, 1)\n",
       "13317      (1, 1)\n",
       "13318     (18, 6)\n",
       "13319      (1, 1)\n",
       "Name: availability, Length: 13320, dtype: object"
      ]
     },
     "execution_count": 623,
     "metadata": {},
     "output_type": "execute_result"
    }
   ],
   "source": [
    "df[\"availability\"] = df[\"availability\"].sort_values(ascending=False)\n",
    "df[\"availability\"]"
   ]
  },
  {
   "cell_type": "code",
   "execution_count": 630,
   "id": "15ac8f13",
   "metadata": {},
   "outputs": [
    {
     "data": {
      "text/plain": [
       "[(1, 1),\n",
       " (2, 1),\n",
       " (14, 7),\n",
       " (14, 11),\n",
       " (15, 6),\n",
       " (15, 8),\n",
       " (15, 10),\n",
       " (15, 11),\n",
       " (15, 12),\n",
       " (16, 1),\n",
       " (16, 3),\n",
       " (16, 7),\n",
       " (16, 9),\n",
       " (16, 10),\n",
       " (16, 11),\n",
       " (16, 12),\n",
       " (17, 1),\n",
       " (17, 2),\n",
       " (17, 3),\n",
       " (17, 4),\n",
       " (17, 5),\n",
       " (17, 6),\n",
       " (17, 7),\n",
       " (17, 8),\n",
       " (17, 9),\n",
       " (17, 10),\n",
       " (17, 11),\n",
       " (17, 12),\n",
       " (18, 1),\n",
       " (18, 2),\n",
       " (18, 3),\n",
       " (18, 4),\n",
       " (18, 5),\n",
       " (18, 6),\n",
       " (18, 7),\n",
       " (18, 8),\n",
       " (18, 9),\n",
       " (18, 10),\n",
       " (18, 11),\n",
       " (18, 12),\n",
       " (19, 1),\n",
       " (19, 2),\n",
       " (19, 3),\n",
       " (19, 4),\n",
       " (19, 5),\n",
       " (19, 6),\n",
       " (19, 7),\n",
       " (19, 8),\n",
       " (19, 9),\n",
       " (19, 10),\n",
       " (19, 11),\n",
       " (19, 12),\n",
       " (20, 1),\n",
       " (20, 2),\n",
       " (20, 3),\n",
       " (20, 4),\n",
       " (20, 5),\n",
       " (20, 6),\n",
       " (20, 7),\n",
       " (20, 8),\n",
       " (20, 9),\n",
       " (20, 10),\n",
       " (20, 11),\n",
       " (20, 12),\n",
       " (21, 1),\n",
       " (21, 2),\n",
       " (21, 3),\n",
       " (21, 5),\n",
       " (21, 6),\n",
       " (21, 7),\n",
       " (21, 8),\n",
       " (21, 9),\n",
       " (21, 10),\n",
       " (21, 11),\n",
       " (21, 12),\n",
       " (22, 1),\n",
       " (22, 3),\n",
       " (22, 5),\n",
       " (22, 6),\n",
       " (22, 11),\n",
       " (22, 12)]"
      ]
     },
     "execution_count": 630,
     "metadata": {},
     "output_type": "execute_result"
    }
   ],
   "source": [
    "dict_lst = []\n",
    "for i in df[\"availability\"].sort_values():\n",
    "    if i not in dict_lst:\n",
    "        dict_lst.append(i)\n",
    "        \n",
    "# dict_lst = str(dict_lst)\n",
    "# dict_lst = eval(dict_lst)\n",
    "# dict_lst = str(dict_lst)\n",
    "dict_lst"
   ]
  },
  {
   "cell_type": "code",
   "execution_count": 625,
   "id": "b51b1afd",
   "metadata": {},
   "outputs": [
    {
     "data": {
      "text/plain": [
       "tuple"
      ]
     },
     "execution_count": 625,
     "metadata": {},
     "output_type": "execute_result"
    }
   ],
   "source": [
    "type(dict_lst[0])"
   ]
  },
  {
   "cell_type": "code",
   "execution_count": 626,
   "id": "eaf9268a",
   "metadata": {},
   "outputs": [
    {
     "data": {
      "text/plain": [
       "array([ 0,  1,  2,  3,  4,  5,  6,  7,  8,  9, 10, 11, 12, 13, 14, 15, 16,\n",
       "       17, 18, 19, 20, 21, 22, 23, 24, 25, 26, 27, 28, 29, 30, 31, 32, 33,\n",
       "       34, 35, 36, 37, 38, 39, 40, 41, 42, 43, 44, 45, 46, 47, 48, 49, 50,\n",
       "       51, 52, 53, 54, 55, 56, 57, 58, 59, 60, 61, 62, 63, 64, 65, 66, 67,\n",
       "       68, 69, 70, 71, 72, 73, 74, 75, 76, 77, 78, 79, 80])"
      ]
     },
     "execution_count": 626,
     "metadata": {},
     "output_type": "execute_result"
    }
   ],
   "source": [
    "empty_lst = np.arange(0,81)\n",
    "(empty_lst)  "
   ]
  },
  {
   "cell_type": "code",
   "execution_count": 627,
   "id": "c2fcc6f6",
   "metadata": {},
   "outputs": [],
   "source": [
    "# availability_dict = dict(zip(dict_lst,empty_lst))\n",
    "availability_dict={\"(1, 1)\": 0,\n",
    " '(14, 11)': 1,\n",
    " '(14, 7)': 2,\n",
    " '(15, 10)': 3,\n",
    " '(15, 11)': 4,\n",
    " '(15, 12)': 5,\n",
    " '(15, 6)': 6,\n",
    " '(15, 8)': 7,\n",
    " '(16, 1)': 8,\n",
    " '(16, 10)': 9,\n",
    " '(16, 11)': 10,\n",
    " '(16, 12)': 11,\n",
    " '(16, 3)': 12,\n",
    " '(16, 7)': 13,\n",
    " '(16, 9)': 14,\n",
    " '(17, 1)': 15,\n",
    " '(17, 10)': 16,\n",
    " '(17, 11)': 17,\n",
    " '(17, 12)': 18,\n",
    " '(17, 2)': 19,\n",
    " '(17, 3)': 20,\n",
    " '(17, 4)': 21,\n",
    " '(17, 5)': 22,\n",
    " '(17, 6)': 23,\n",
    " '(17, 7)': 24,\n",
    " '(17, 8)': 25,\n",
    " '(17, 9)': 26,\n",
    " '(18, 1)': 27,\n",
    " '(18, 10)': 28,\n",
    " '(18, 11)': 29,\n",
    " '(18, 12)': 30,\n",
    " '(18, 2)': 31,\n",
    " '(18, 3)': 32,\n",
    " '(18, 4)': 33,\n",
    " '(18, 5)': 34,\n",
    " '(18, 6)': 35,\n",
    " '(18, 7)': 36,\n",
    " '(18, 8)': 37,\n",
    " '(18, 9)': 38,\n",
    " '(19, 1)': 39,\n",
    " '(19, 10)': 40,\n",
    " '(19, 11)': 41,\n",
    " '(19, 12)': 42,\n",
    " '(19, 2)': 43,\n",
    " '(19, 3)': 44,\n",
    " '(19, 4)': 45,\n",
    " '(19, 5)': 46,\n",
    " '(19, 6)': 47,\n",
    " '(19, 7)': 48,\n",
    " '(19, 8)': 49,\n",
    " '(19, 9)': 50,\n",
    " '(2, 1)': 51,\n",
    " '(20, 1)': 52,\n",
    " '(20, 10)': 53,\n",
    " '(20, 11)': 54,\n",
    " '(20, 12)': 55,\n",
    " '(20, 2)': 56,\n",
    " '(20, 3)': 57,\n",
    " '(20, 4)': 58,\n",
    " '(20, 5)': 59,\n",
    " '(20, 6)': 60,\n",
    " '(20, 7)': 61,\n",
    " '(20, 8)': 62,\n",
    " '(20, 9)': 63,\n",
    " '(21, 1)': 64,\n",
    " '(21, 10)': 65,\n",
    " '(21, 11)': 66,\n",
    " '(21, 12)': 67,\n",
    " '(21, 2)': 68,\n",
    " '(21, 3)': 69,\n",
    " '(21, 5)': 70,\n",
    " '(21, 6)': 71,\n",
    " '(21, 7)': 72,\n",
    " '(21, 8)': 73,\n",
    " '(21, 9)': 74,\n",
    " '(22, 1)': 75,\n",
    " '(22, 11)': 76,\n",
    " '(22, 12)': 77,\n",
    " '(22, 3)': 78,\n",
    " '(22, 5)': 79,\n",
    " '(22, 6)': 80}\n"
   ]
  },
  {
   "cell_type": "code",
   "execution_count": 600,
   "id": "1d4419ab",
   "metadata": {},
   "outputs": [
    {
     "data": {
      "text/plain": [
       "0        42\n",
       "1         0\n",
       "2         0\n",
       "3         0\n",
       "4         0\n",
       "         ..\n",
       "13315     0\n",
       "13316     0\n",
       "13317     0\n",
       "13318    35\n",
       "13319     0\n",
       "Name: availability, Length: 13320, dtype: object"
      ]
     },
     "execution_count": 600,
     "metadata": {},
     "output_type": "execute_result"
    }
   ],
   "source": [
    "df[\"availability\"]=df[\"availability\"].apply(lambda x:str(x))\n",
    "df[\"availability\"]"
   ]
  },
  {
   "cell_type": "code",
   "execution_count": 496,
   "id": "febb6eec",
   "metadata": {},
   "outputs": [
    {
     "data": {
      "text/plain": [
       "'(19, 12)'"
      ]
     },
     "execution_count": 496,
     "metadata": {},
     "output_type": "execute_result"
    }
   ],
   "source": [
    "df[\"availability\"][0]"
   ]
  },
  {
   "cell_type": "code",
   "execution_count": 497,
   "id": "cf762c78",
   "metadata": {},
   "outputs": [],
   "source": [
    "df[\"availability\"]= df[\"availability\"].replace({\"(1, 1)\": 0,\n",
    " '(14, 11)': 1,\n",
    " '(14, 7)': 2,\n",
    " '(15, 10)': 3,\n",
    " '(15, 11)': 4,\n",
    " '(15, 12)': 5,\n",
    " '(15, 6)': 6,\n",
    " '(15, 8)': 7,\n",
    " '(16, 1)': 8,\n",
    " '(16, 10)': 9,\n",
    " '(16, 11)': 10,\n",
    " '(16, 12)': 11,\n",
    " '(16, 3)': 12,\n",
    " '(16, 7)': 13,\n",
    " '(16, 9)': 14,\n",
    " '(17, 1)': 15,\n",
    " '(17, 10)': 16,\n",
    " '(17, 11)': 17,\n",
    " '(17, 12)': 18,\n",
    " '(17, 2)': 19,\n",
    " '(17, 3)': 20,\n",
    " '(17, 4)': 21,\n",
    " '(17, 5)': 22,\n",
    " '(17, 6)': 23,\n",
    " '(17, 7)': 24,\n",
    " '(17, 8)': 25,\n",
    " '(17, 9)': 26,\n",
    " '(18, 1)': 27,\n",
    " '(18, 10)': 28,\n",
    " '(18, 11)': 29,\n",
    " '(18, 12)': 30,\n",
    " '(18, 2)': 31,\n",
    " '(18, 3)': 32,\n",
    " '(18, 4)': 33,\n",
    " '(18, 5)': 34,\n",
    " '(18, 6)': 35,\n",
    " '(18, 7)': 36,\n",
    " '(18, 8)': 37,\n",
    " '(18, 9)': 38,\n",
    " '(19, 1)': 39,\n",
    " '(19, 10)': 40,\n",
    " '(19, 11)': 41,\n",
    " '(19, 12)': 42,\n",
    " '(19, 2)': 43,\n",
    " '(19, 3)': 44,\n",
    " '(19, 4)': 45,\n",
    " '(19, 5)': 46,\n",
    " '(19, 6)': 47,\n",
    " '(19, 7)': 48,\n",
    " '(19, 8)': 49,\n",
    " '(19, 9)': 50,\n",
    " '(2, 1)': 51,\n",
    " '(20, 1)': 52,\n",
    " '(20, 10)': 53,\n",
    " '(20, 11)': 54,\n",
    " '(20, 12)': 55,\n",
    " '(20, 2)': 56,\n",
    " '(20, 3)': 57,\n",
    " '(20, 4)': 58,\n",
    " '(20, 5)': 59,\n",
    " '(20, 6)': 60,\n",
    " '(20, 7)': 61,\n",
    " '(20, 8)': 62,\n",
    " '(20, 9)': 63,\n",
    " '(21, 1)': 64,\n",
    " '(21, 10)': 65,\n",
    " '(21, 11)': 66,\n",
    " '(21, 12)': 67,\n",
    " '(21, 2)': 68,\n",
    " '(21, 3)': 69,\n",
    " '(21, 5)': 70,\n",
    " '(21, 6)': 71,\n",
    " '(21, 7)': 72,\n",
    " '(21, 8)': 73,\n",
    " '(21, 9)': 74,\n",
    " '(22, 1)': 75,\n",
    " '(22, 11)': 76,\n",
    " '(22, 12)': 77,\n",
    " '(22, 3)': 78,\n",
    " '(22, 5)': 79,\n",
    " '(22, 6)': 80})"
   ]
  },
  {
   "cell_type": "code",
   "execution_count": 498,
   "id": "1ac405f3",
   "metadata": {},
   "outputs": [
    {
     "data": {
      "text/plain": [
       "0        42\n",
       "1         0\n",
       "2         0\n",
       "3         0\n",
       "4         0\n",
       "         ..\n",
       "13315     0\n",
       "13316     0\n",
       "13317     0\n",
       "13318    35\n",
       "13319     0\n",
       "Name: availability, Length: 13320, dtype: int64"
      ]
     },
     "execution_count": 498,
     "metadata": {},
     "output_type": "execute_result"
    }
   ],
   "source": [
    "df[\"availability\"]"
   ]
  },
  {
   "cell_type": "code",
   "execution_count": 499,
   "id": "038011a5",
   "metadata": {},
   "outputs": [
    {
     "data": {
      "text/html": [
       "<div>\n",
       "<style scoped>\n",
       "    .dataframe tbody tr th:only-of-type {\n",
       "        vertical-align: middle;\n",
       "    }\n",
       "\n",
       "    .dataframe tbody tr th {\n",
       "        vertical-align: top;\n",
       "    }\n",
       "\n",
       "    .dataframe thead th {\n",
       "        text-align: right;\n",
       "    }\n",
       "</style>\n",
       "<table border=\"1\" class=\"dataframe\">\n",
       "  <thead>\n",
       "    <tr style=\"text-align: right;\">\n",
       "      <th></th>\n",
       "      <th>availability</th>\n",
       "      <th>location</th>\n",
       "      <th>size</th>\n",
       "      <th>total_sqft</th>\n",
       "      <th>bath</th>\n",
       "      <th>balcony</th>\n",
       "      <th>price</th>\n",
       "      <th>area_type_Built_up_Area</th>\n",
       "      <th>area_type_Carpet_Area</th>\n",
       "      <th>area_type_Plot_Area</th>\n",
       "      <th>area_type_Super_built_up_Area</th>\n",
       "    </tr>\n",
       "  </thead>\n",
       "  <tbody>\n",
       "    <tr>\n",
       "      <th>0</th>\n",
       "      <td>42</td>\n",
       "      <td>Electronic City Phase II</td>\n",
       "      <td>2 BHK</td>\n",
       "      <td>1056</td>\n",
       "      <td>2.0</td>\n",
       "      <td>1.0</td>\n",
       "      <td>39.07</td>\n",
       "      <td>0</td>\n",
       "      <td>0</td>\n",
       "      <td>0</td>\n",
       "      <td>1</td>\n",
       "    </tr>\n",
       "    <tr>\n",
       "      <th>1</th>\n",
       "      <td>0</td>\n",
       "      <td>Chikka Tirupathi</td>\n",
       "      <td>4 Bedroom</td>\n",
       "      <td>2600</td>\n",
       "      <td>5.0</td>\n",
       "      <td>3.0</td>\n",
       "      <td>120.00</td>\n",
       "      <td>0</td>\n",
       "      <td>0</td>\n",
       "      <td>1</td>\n",
       "      <td>0</td>\n",
       "    </tr>\n",
       "    <tr>\n",
       "      <th>2</th>\n",
       "      <td>0</td>\n",
       "      <td>Uttarahalli</td>\n",
       "      <td>3 BHK</td>\n",
       "      <td>1440</td>\n",
       "      <td>2.0</td>\n",
       "      <td>3.0</td>\n",
       "      <td>62.00</td>\n",
       "      <td>1</td>\n",
       "      <td>0</td>\n",
       "      <td>0</td>\n",
       "      <td>0</td>\n",
       "    </tr>\n",
       "    <tr>\n",
       "      <th>3</th>\n",
       "      <td>0</td>\n",
       "      <td>Lingadheeranahalli</td>\n",
       "      <td>3 BHK</td>\n",
       "      <td>1521</td>\n",
       "      <td>3.0</td>\n",
       "      <td>1.0</td>\n",
       "      <td>95.00</td>\n",
       "      <td>0</td>\n",
       "      <td>0</td>\n",
       "      <td>0</td>\n",
       "      <td>1</td>\n",
       "    </tr>\n",
       "    <tr>\n",
       "      <th>4</th>\n",
       "      <td>0</td>\n",
       "      <td>Kothanur</td>\n",
       "      <td>2 BHK</td>\n",
       "      <td>1200</td>\n",
       "      <td>2.0</td>\n",
       "      <td>1.0</td>\n",
       "      <td>51.00</td>\n",
       "      <td>0</td>\n",
       "      <td>0</td>\n",
       "      <td>0</td>\n",
       "      <td>1</td>\n",
       "    </tr>\n",
       "    <tr>\n",
       "      <th>...</th>\n",
       "      <td>...</td>\n",
       "      <td>...</td>\n",
       "      <td>...</td>\n",
       "      <td>...</td>\n",
       "      <td>...</td>\n",
       "      <td>...</td>\n",
       "      <td>...</td>\n",
       "      <td>...</td>\n",
       "      <td>...</td>\n",
       "      <td>...</td>\n",
       "      <td>...</td>\n",
       "    </tr>\n",
       "    <tr>\n",
       "      <th>13315</th>\n",
       "      <td>0</td>\n",
       "      <td>Whitefield</td>\n",
       "      <td>5 Bedroom</td>\n",
       "      <td>3453</td>\n",
       "      <td>4.0</td>\n",
       "      <td>0.0</td>\n",
       "      <td>231.00</td>\n",
       "      <td>1</td>\n",
       "      <td>0</td>\n",
       "      <td>0</td>\n",
       "      <td>0</td>\n",
       "    </tr>\n",
       "    <tr>\n",
       "      <th>13316</th>\n",
       "      <td>0</td>\n",
       "      <td>Richards Town</td>\n",
       "      <td>4 BHK</td>\n",
       "      <td>3600</td>\n",
       "      <td>5.0</td>\n",
       "      <td>NaN</td>\n",
       "      <td>400.00</td>\n",
       "      <td>0</td>\n",
       "      <td>0</td>\n",
       "      <td>0</td>\n",
       "      <td>1</td>\n",
       "    </tr>\n",
       "    <tr>\n",
       "      <th>13317</th>\n",
       "      <td>0</td>\n",
       "      <td>Raja Rajeshwari Nagar</td>\n",
       "      <td>2 BHK</td>\n",
       "      <td>1141</td>\n",
       "      <td>2.0</td>\n",
       "      <td>1.0</td>\n",
       "      <td>60.00</td>\n",
       "      <td>1</td>\n",
       "      <td>0</td>\n",
       "      <td>0</td>\n",
       "      <td>0</td>\n",
       "    </tr>\n",
       "    <tr>\n",
       "      <th>13318</th>\n",
       "      <td>35</td>\n",
       "      <td>Padmanabhanagar</td>\n",
       "      <td>4 BHK</td>\n",
       "      <td>4689</td>\n",
       "      <td>4.0</td>\n",
       "      <td>1.0</td>\n",
       "      <td>488.00</td>\n",
       "      <td>0</td>\n",
       "      <td>0</td>\n",
       "      <td>0</td>\n",
       "      <td>1</td>\n",
       "    </tr>\n",
       "    <tr>\n",
       "      <th>13319</th>\n",
       "      <td>0</td>\n",
       "      <td>Doddathoguru</td>\n",
       "      <td>1 BHK</td>\n",
       "      <td>550</td>\n",
       "      <td>1.0</td>\n",
       "      <td>1.0</td>\n",
       "      <td>17.00</td>\n",
       "      <td>0</td>\n",
       "      <td>0</td>\n",
       "      <td>0</td>\n",
       "      <td>1</td>\n",
       "    </tr>\n",
       "  </tbody>\n",
       "</table>\n",
       "<p>13320 rows × 11 columns</p>\n",
       "</div>"
      ],
      "text/plain": [
       "       availability                  location       size total_sqft  bath  \\\n",
       "0                42  Electronic City Phase II      2 BHK       1056   2.0   \n",
       "1                 0          Chikka Tirupathi  4 Bedroom       2600   5.0   \n",
       "2                 0               Uttarahalli      3 BHK       1440   2.0   \n",
       "3                 0        Lingadheeranahalli      3 BHK       1521   3.0   \n",
       "4                 0                  Kothanur      2 BHK       1200   2.0   \n",
       "...             ...                       ...        ...        ...   ...   \n",
       "13315             0                Whitefield  5 Bedroom       3453   4.0   \n",
       "13316             0             Richards Town      4 BHK       3600   5.0   \n",
       "13317             0     Raja Rajeshwari Nagar      2 BHK       1141   2.0   \n",
       "13318            35           Padmanabhanagar      4 BHK       4689   4.0   \n",
       "13319             0              Doddathoguru      1 BHK        550   1.0   \n",
       "\n",
       "       balcony   price  area_type_Built_up_Area  area_type_Carpet_Area  \\\n",
       "0          1.0   39.07                        0                      0   \n",
       "1          3.0  120.00                        0                      0   \n",
       "2          3.0   62.00                        1                      0   \n",
       "3          1.0   95.00                        0                      0   \n",
       "4          1.0   51.00                        0                      0   \n",
       "...        ...     ...                      ...                    ...   \n",
       "13315      0.0  231.00                        1                      0   \n",
       "13316      NaN  400.00                        0                      0   \n",
       "13317      1.0   60.00                        1                      0   \n",
       "13318      1.0  488.00                        0                      0   \n",
       "13319      1.0   17.00                        0                      0   \n",
       "\n",
       "       area_type_Plot_Area  area_type_Super_built_up_Area  \n",
       "0                        0                              1  \n",
       "1                        1                              0  \n",
       "2                        0                              0  \n",
       "3                        0                              1  \n",
       "4                        0                              1  \n",
       "...                    ...                            ...  \n",
       "13315                    0                              0  \n",
       "13316                    0                              1  \n",
       "13317                    0                              0  \n",
       "13318                    0                              1  \n",
       "13319                    0                              1  \n",
       "\n",
       "[13320 rows x 11 columns]"
      ]
     },
     "execution_count": 499,
     "metadata": {},
     "output_type": "execute_result"
    }
   ],
   "source": [
    "df"
   ]
  },
  {
   "cell_type": "markdown",
   "id": "f928eae1",
   "metadata": {},
   "source": [
    "#### 3. df[\"location\"]"
   ]
  },
  {
   "cell_type": "code",
   "execution_count": 500,
   "id": "acc5361e",
   "metadata": {},
   "outputs": [
    {
     "data": {
      "text/plain": [
       "array(['Electronic City Phase II', 'Chikka Tirupathi', 'Uttarahalli', ...,\n",
       "       '12th cross srinivas nagar banshankari 3rd stage',\n",
       "       'Havanur extension', 'Abshot Layout'], dtype=object)"
      ]
     },
     "execution_count": 500,
     "metadata": {},
     "output_type": "execute_result"
    }
   ],
   "source": [
    "df[\"location\"].unique()"
   ]
  },
  {
   "cell_type": "code",
   "execution_count": 501,
   "id": "5600cb78",
   "metadata": {},
   "outputs": [
    {
     "data": {
      "text/plain": [
       "1305"
      ]
     },
     "execution_count": 501,
     "metadata": {},
     "output_type": "execute_result"
    }
   ],
   "source": [
    "df[\"location\"].nunique()"
   ]
  },
  {
   "cell_type": "code",
   "execution_count": 502,
   "id": "b5b28be3",
   "metadata": {},
   "outputs": [],
   "source": [
    "df.drop(\"location\",axis=1,inplace=True)"
   ]
  },
  {
   "cell_type": "code",
   "execution_count": 503,
   "id": "e4dd8870",
   "metadata": {},
   "outputs": [
    {
     "data": {
      "text/html": [
       "<div>\n",
       "<style scoped>\n",
       "    .dataframe tbody tr th:only-of-type {\n",
       "        vertical-align: middle;\n",
       "    }\n",
       "\n",
       "    .dataframe tbody tr th {\n",
       "        vertical-align: top;\n",
       "    }\n",
       "\n",
       "    .dataframe thead th {\n",
       "        text-align: right;\n",
       "    }\n",
       "</style>\n",
       "<table border=\"1\" class=\"dataframe\">\n",
       "  <thead>\n",
       "    <tr style=\"text-align: right;\">\n",
       "      <th></th>\n",
       "      <th>availability</th>\n",
       "      <th>size</th>\n",
       "      <th>total_sqft</th>\n",
       "      <th>bath</th>\n",
       "      <th>balcony</th>\n",
       "      <th>price</th>\n",
       "      <th>area_type_Built_up_Area</th>\n",
       "      <th>area_type_Carpet_Area</th>\n",
       "      <th>area_type_Plot_Area</th>\n",
       "      <th>area_type_Super_built_up_Area</th>\n",
       "    </tr>\n",
       "  </thead>\n",
       "  <tbody>\n",
       "    <tr>\n",
       "      <th>0</th>\n",
       "      <td>42</td>\n",
       "      <td>2 BHK</td>\n",
       "      <td>1056</td>\n",
       "      <td>2.0</td>\n",
       "      <td>1.0</td>\n",
       "      <td>39.07</td>\n",
       "      <td>0</td>\n",
       "      <td>0</td>\n",
       "      <td>0</td>\n",
       "      <td>1</td>\n",
       "    </tr>\n",
       "    <tr>\n",
       "      <th>1</th>\n",
       "      <td>0</td>\n",
       "      <td>4 Bedroom</td>\n",
       "      <td>2600</td>\n",
       "      <td>5.0</td>\n",
       "      <td>3.0</td>\n",
       "      <td>120.00</td>\n",
       "      <td>0</td>\n",
       "      <td>0</td>\n",
       "      <td>1</td>\n",
       "      <td>0</td>\n",
       "    </tr>\n",
       "    <tr>\n",
       "      <th>2</th>\n",
       "      <td>0</td>\n",
       "      <td>3 BHK</td>\n",
       "      <td>1440</td>\n",
       "      <td>2.0</td>\n",
       "      <td>3.0</td>\n",
       "      <td>62.00</td>\n",
       "      <td>1</td>\n",
       "      <td>0</td>\n",
       "      <td>0</td>\n",
       "      <td>0</td>\n",
       "    </tr>\n",
       "    <tr>\n",
       "      <th>3</th>\n",
       "      <td>0</td>\n",
       "      <td>3 BHK</td>\n",
       "      <td>1521</td>\n",
       "      <td>3.0</td>\n",
       "      <td>1.0</td>\n",
       "      <td>95.00</td>\n",
       "      <td>0</td>\n",
       "      <td>0</td>\n",
       "      <td>0</td>\n",
       "      <td>1</td>\n",
       "    </tr>\n",
       "    <tr>\n",
       "      <th>4</th>\n",
       "      <td>0</td>\n",
       "      <td>2 BHK</td>\n",
       "      <td>1200</td>\n",
       "      <td>2.0</td>\n",
       "      <td>1.0</td>\n",
       "      <td>51.00</td>\n",
       "      <td>0</td>\n",
       "      <td>0</td>\n",
       "      <td>0</td>\n",
       "      <td>1</td>\n",
       "    </tr>\n",
       "    <tr>\n",
       "      <th>...</th>\n",
       "      <td>...</td>\n",
       "      <td>...</td>\n",
       "      <td>...</td>\n",
       "      <td>...</td>\n",
       "      <td>...</td>\n",
       "      <td>...</td>\n",
       "      <td>...</td>\n",
       "      <td>...</td>\n",
       "      <td>...</td>\n",
       "      <td>...</td>\n",
       "    </tr>\n",
       "    <tr>\n",
       "      <th>13315</th>\n",
       "      <td>0</td>\n",
       "      <td>5 Bedroom</td>\n",
       "      <td>3453</td>\n",
       "      <td>4.0</td>\n",
       "      <td>0.0</td>\n",
       "      <td>231.00</td>\n",
       "      <td>1</td>\n",
       "      <td>0</td>\n",
       "      <td>0</td>\n",
       "      <td>0</td>\n",
       "    </tr>\n",
       "    <tr>\n",
       "      <th>13316</th>\n",
       "      <td>0</td>\n",
       "      <td>4 BHK</td>\n",
       "      <td>3600</td>\n",
       "      <td>5.0</td>\n",
       "      <td>NaN</td>\n",
       "      <td>400.00</td>\n",
       "      <td>0</td>\n",
       "      <td>0</td>\n",
       "      <td>0</td>\n",
       "      <td>1</td>\n",
       "    </tr>\n",
       "    <tr>\n",
       "      <th>13317</th>\n",
       "      <td>0</td>\n",
       "      <td>2 BHK</td>\n",
       "      <td>1141</td>\n",
       "      <td>2.0</td>\n",
       "      <td>1.0</td>\n",
       "      <td>60.00</td>\n",
       "      <td>1</td>\n",
       "      <td>0</td>\n",
       "      <td>0</td>\n",
       "      <td>0</td>\n",
       "    </tr>\n",
       "    <tr>\n",
       "      <th>13318</th>\n",
       "      <td>35</td>\n",
       "      <td>4 BHK</td>\n",
       "      <td>4689</td>\n",
       "      <td>4.0</td>\n",
       "      <td>1.0</td>\n",
       "      <td>488.00</td>\n",
       "      <td>0</td>\n",
       "      <td>0</td>\n",
       "      <td>0</td>\n",
       "      <td>1</td>\n",
       "    </tr>\n",
       "    <tr>\n",
       "      <th>13319</th>\n",
       "      <td>0</td>\n",
       "      <td>1 BHK</td>\n",
       "      <td>550</td>\n",
       "      <td>1.0</td>\n",
       "      <td>1.0</td>\n",
       "      <td>17.00</td>\n",
       "      <td>0</td>\n",
       "      <td>0</td>\n",
       "      <td>0</td>\n",
       "      <td>1</td>\n",
       "    </tr>\n",
       "  </tbody>\n",
       "</table>\n",
       "<p>13320 rows × 10 columns</p>\n",
       "</div>"
      ],
      "text/plain": [
       "       availability       size total_sqft  bath  balcony   price  \\\n",
       "0                42      2 BHK       1056   2.0      1.0   39.07   \n",
       "1                 0  4 Bedroom       2600   5.0      3.0  120.00   \n",
       "2                 0      3 BHK       1440   2.0      3.0   62.00   \n",
       "3                 0      3 BHK       1521   3.0      1.0   95.00   \n",
       "4                 0      2 BHK       1200   2.0      1.0   51.00   \n",
       "...             ...        ...        ...   ...      ...     ...   \n",
       "13315             0  5 Bedroom       3453   4.0      0.0  231.00   \n",
       "13316             0      4 BHK       3600   5.0      NaN  400.00   \n",
       "13317             0      2 BHK       1141   2.0      1.0   60.00   \n",
       "13318            35      4 BHK       4689   4.0      1.0  488.00   \n",
       "13319             0      1 BHK        550   1.0      1.0   17.00   \n",
       "\n",
       "       area_type_Built_up_Area  area_type_Carpet_Area  area_type_Plot_Area  \\\n",
       "0                            0                      0                    0   \n",
       "1                            0                      0                    1   \n",
       "2                            1                      0                    0   \n",
       "3                            0                      0                    0   \n",
       "4                            0                      0                    0   \n",
       "...                        ...                    ...                  ...   \n",
       "13315                        1                      0                    0   \n",
       "13316                        0                      0                    0   \n",
       "13317                        1                      0                    0   \n",
       "13318                        0                      0                    0   \n",
       "13319                        0                      0                    0   \n",
       "\n",
       "       area_type_Super_built_up_Area  \n",
       "0                                  1  \n",
       "1                                  0  \n",
       "2                                  0  \n",
       "3                                  1  \n",
       "4                                  1  \n",
       "...                              ...  \n",
       "13315                              0  \n",
       "13316                              1  \n",
       "13317                              0  \n",
       "13318                              1  \n",
       "13319                              1  \n",
       "\n",
       "[13320 rows x 10 columns]"
      ]
     },
     "execution_count": 503,
     "metadata": {},
     "output_type": "execute_result"
    }
   ],
   "source": [
    "df"
   ]
  },
  {
   "cell_type": "markdown",
   "id": "fd8d2fd6",
   "metadata": {},
   "source": [
    "#### 4. df[\"size\"]"
   ]
  },
  {
   "cell_type": "code",
   "execution_count": 504,
   "id": "74271e2b",
   "metadata": {},
   "outputs": [
    {
     "data": {
      "text/plain": [
       "31"
      ]
     },
     "execution_count": 504,
     "metadata": {},
     "output_type": "execute_result"
    }
   ],
   "source": [
    "df[\"size\"].nunique()"
   ]
  },
  {
   "cell_type": "code",
   "execution_count": 505,
   "id": "a82cfdc4",
   "metadata": {},
   "outputs": [
    {
     "data": {
      "text/plain": [
       "16"
      ]
     },
     "execution_count": 505,
     "metadata": {},
     "output_type": "execute_result"
    }
   ],
   "source": [
    "df[\"size\"].isna().sum()"
   ]
  },
  {
   "cell_type": "code",
   "execution_count": 506,
   "id": "da673b57",
   "metadata": {},
   "outputs": [],
   "source": [
    "df[\"size\"] = df[\"size\"].fillna(df[\"size\"].mode()[0])"
   ]
  },
  {
   "cell_type": "code",
   "execution_count": 507,
   "id": "ca60f4ca",
   "metadata": {},
   "outputs": [
    {
     "data": {
      "text/plain": [
       "0"
      ]
     },
     "execution_count": 507,
     "metadata": {},
     "output_type": "execute_result"
    }
   ],
   "source": [
    "df[\"size\"].isna().sum()"
   ]
  },
  {
   "cell_type": "code",
   "execution_count": 508,
   "id": "7d1efa67",
   "metadata": {},
   "outputs": [
    {
     "data": {
      "text/plain": [
       "{'2 BHK': 5215,\n",
       " '3 BHK': 4310,\n",
       " '4 Bedroom': 826,\n",
       " '4 BHK': 591,\n",
       " '3 Bedroom': 547,\n",
       " '1 BHK': 538,\n",
       " '2 Bedroom': 329,\n",
       " '5 Bedroom': 297,\n",
       " '6 Bedroom': 191,\n",
       " '1 Bedroom': 105,\n",
       " '8 Bedroom': 84,\n",
       " '7 Bedroom': 83,\n",
       " '5 BHK': 59,\n",
       " '9 Bedroom': 46,\n",
       " '6 BHK': 30,\n",
       " '7 BHK': 17,\n",
       " '1 RK': 13,\n",
       " '10 Bedroom': 12,\n",
       " '9 BHK': 8,\n",
       " '8 BHK': 5,\n",
       " '11 BHK': 2,\n",
       " '11 Bedroom': 2,\n",
       " '10 BHK': 2,\n",
       " '14 BHK': 1,\n",
       " '13 BHK': 1,\n",
       " '12 Bedroom': 1,\n",
       " '27 BHK': 1,\n",
       " '43 Bedroom': 1,\n",
       " '16 BHK': 1,\n",
       " '19 BHK': 1,\n",
       " '18 Bedroom': 1}"
      ]
     },
     "execution_count": 508,
     "metadata": {},
     "output_type": "execute_result"
    }
   ],
   "source": [
    "df[\"size\"].value_counts().to_dict()"
   ]
  },
  {
   "cell_type": "code",
   "execution_count": 509,
   "id": "270c63b4",
   "metadata": {},
   "outputs": [],
   "source": [
    "size_dict = {'1 RK': 0,'1 Bedroom': 1,'2 Bedroom': 2,'3 Bedroom': 3,'4 Bedroom': 4,\n",
    " '1 BHK': 5,'5 Bedroom': 6,'2 BHK': 7,'6 Bedroom': 8,'3 BHK': 9,'4 BHK': 10,\n",
    " '7 Bedroom': 11,'8 Bedroom': 12,'5 BHK': 13,'9 Bedroom': 14,'6 BHK': 15,'7 BHK': 16,\n",
    " '10 Bedroom': 17,'8 BHK': 18,'11 Bedroom': 19,'12 Bedroom': 20,'9 BHK': 21,'10 BHK': 22, '11 BHK': 23,\n",
    "'13 BHK': 24,'14 BHK': 25,'18 Bedroom': 26,'16 BHK': 27, '19 BHK': 28,'27 BHK': 29,'43 Bedroom': 30}"
   ]
  },
  {
   "cell_type": "code",
   "execution_count": 510,
   "id": "07820abb",
   "metadata": {},
   "outputs": [
    {
     "data": {
      "text/plain": [
       "{'1 RK': 0,\n",
       " '1 Bedroom': 1,\n",
       " '2 Bedroom': 2,\n",
       " '3 Bedroom': 3,\n",
       " '4 Bedroom': 4,\n",
       " '1 BHK': 5,\n",
       " '5 Bedroom': 6,\n",
       " '2 BHK': 7,\n",
       " '6 Bedroom': 8,\n",
       " '3 BHK': 9,\n",
       " '4 BHK': 10,\n",
       " '7 Bedroom': 11,\n",
       " '8 Bedroom': 12,\n",
       " '5 BHK': 13,\n",
       " '9 Bedroom': 14,\n",
       " '6 BHK': 15,\n",
       " '7 BHK': 16,\n",
       " '10 Bedroom': 17,\n",
       " '8 BHK': 18,\n",
       " '11 Bedroom': 19,\n",
       " '12 Bedroom': 20,\n",
       " '9 BHK': 21,\n",
       " '10 BHK': 22,\n",
       " '11 BHK': 23,\n",
       " '13 BHK': 24,\n",
       " '14 BHK': 25,\n",
       " '18 Bedroom': 26,\n",
       " '16 BHK': 27,\n",
       " '19 BHK': 28,\n",
       " '27 BHK': 29,\n",
       " '43 Bedroom': 30}"
      ]
     },
     "execution_count": 510,
     "metadata": {},
     "output_type": "execute_result"
    }
   ],
   "source": [
    "size_dict"
   ]
  },
  {
   "cell_type": "code",
   "execution_count": 511,
   "id": "dae02c92",
   "metadata": {},
   "outputs": [],
   "source": [
    "df[\"size\"].replace({'1 RK': 0,\n",
    " '1 Bedroom': 1,\n",
    " '2 Bedroom': 2,\n",
    " '3 Bedroom': 3,\n",
    " '4 Bedroom': 4,\n",
    " '1 BHK': 5,\n",
    " '5 Bedroom': 6,\n",
    " '2 BHK': 7,\n",
    " '6 Bedroom': 8,\n",
    " '3 BHK': 9,\n",
    " '4 BHK': 10,\n",
    " '7 Bedroom': 11,\n",
    " '8 Bedroom': 12,\n",
    " '5 BHK': 13,\n",
    " '9 Bedroom': 14,\n",
    " '6 BHK': 15,\n",
    " '7 BHK': 16,\n",
    " '10 Bedroom': 17,\n",
    " '8 BHK': 18,\n",
    " '11 Bedroom': 19,\n",
    " '12 Bedroom': 20,\n",
    " '9 BHK': 21,\n",
    " '10 BHK': 22,\n",
    " '11 BHK': 23,\n",
    " '13 BHK': 24,\n",
    " '14 BHK': 25,\n",
    " '18 Bedroom': 26,\n",
    " '16 BHK': 27,\n",
    " '19 BHK': 28,\n",
    " '27 BHK': 29,\n",
    " '43 Bedroom': 30},inplace=True)"
   ]
  },
  {
   "cell_type": "markdown",
   "id": "356b0001",
   "metadata": {},
   "source": [
    "#### 5. df[\"total_sqft\"]"
   ]
  },
  {
   "cell_type": "code",
   "execution_count": 512,
   "id": "0bde5596",
   "metadata": {},
   "outputs": [
    {
     "data": {
      "text/plain": [
       "array(['1056', '2600', '1440', ..., '1133 - 1384', '774', '4689'],\n",
       "      dtype=object)"
      ]
     },
     "execution_count": 512,
     "metadata": {},
     "output_type": "execute_result"
    }
   ],
   "source": [
    "df[\"total_sqft\"].unique()"
   ]
  },
  {
   "cell_type": "code",
   "execution_count": 513,
   "id": "73c24564",
   "metadata": {},
   "outputs": [
    {
     "data": {
      "text/plain": [
       "2117"
      ]
     },
     "execution_count": 513,
     "metadata": {},
     "output_type": "execute_result"
    }
   ],
   "source": [
    "df[\"total_sqft\"].nunique()"
   ]
  },
  {
   "cell_type": "code",
   "execution_count": 514,
   "id": "28e18ae4",
   "metadata": {},
   "outputs": [
    {
     "data": {
      "text/plain": [
       "1200    843\n",
       "1100    221\n",
       "1500    205\n",
       "2400    196\n",
       "600     180\n",
       "       ... \n",
       "3580      1\n",
       "2461      1\n",
       "1437      1\n",
       "2155      1\n",
       "4689      1\n",
       "Name: total_sqft, Length: 2117, dtype: int64"
      ]
     },
     "execution_count": 514,
     "metadata": {},
     "output_type": "execute_result"
    }
   ],
   "source": [
    "df[\"total_sqft\"].value_counts()"
   ]
  },
  {
   "cell_type": "code",
   "execution_count": 515,
   "id": "72cbc214",
   "metadata": {},
   "outputs": [
    {
     "data": {
      "text/plain": [
       "0"
      ]
     },
     "execution_count": 515,
     "metadata": {},
     "output_type": "execute_result"
    }
   ],
   "source": [
    "df[\"total_sqft\"].isna().sum()"
   ]
  },
  {
   "cell_type": "code",
   "execution_count": 516,
   "id": "ad5c863b",
   "metadata": {},
   "outputs": [
    {
     "name": "stdout",
     "output_type": "stream",
     "text": [
      "<class 'pandas.core.series.Series'>\n",
      "RangeIndex: 13320 entries, 0 to 13319\n",
      "Series name: total_sqft\n",
      "Non-Null Count  Dtype \n",
      "--------------  ----- \n",
      "13320 non-null  object\n",
      "dtypes: object(1)\n",
      "memory usage: 104.2+ KB\n"
     ]
    }
   ],
   "source": [
    "df[\"total_sqft\"].info()"
   ]
  },
  {
   "cell_type": "code",
   "execution_count": 517,
   "id": "f255d836",
   "metadata": {},
   "outputs": [],
   "source": [
    "# df[\"total_sqft\"].astype(int)"
   ]
  },
  {
   "cell_type": "code",
   "execution_count": 518,
   "id": "d9fbd3d6",
   "metadata": {},
   "outputs": [
    {
     "data": {
      "text/plain": [
       "'2600'"
      ]
     },
     "execution_count": 518,
     "metadata": {},
     "output_type": "execute_result"
    }
   ],
   "source": [
    "string  = '2100 - 2850'\n",
    "string1 = '2600'\n",
    "new = \"34.46Sq. Meter\"\n",
    "import re \n",
    "re.findall(\"[^a-zA-z]+\",string1)[0]"
   ]
  },
  {
   "cell_type": "code",
   "execution_count": 519,
   "id": "d4bbbf48",
   "metadata": {},
   "outputs": [
    {
     "name": "stdout",
     "output_type": "stream",
     "text": [
      "4950\n"
     ]
    }
   ],
   "source": [
    "import re \n",
    "a = string.split(\"-\")\n",
    "# a = string.split(\".\")\n",
    "b = []\n",
    "for i in a :\n",
    "#     print(i.strip())\n",
    "    b.append(eval(i))\n",
    "add = 0    \n",
    "for j in b:\n",
    "    add = add + j\n",
    "print(add)\n",
    "\n",
    "    "
   ]
  },
  {
   "cell_type": "code",
   "execution_count": 1,
   "id": "f3b483fe",
   "metadata": {},
   "outputs": [
    {
     "ename": "NameError",
     "evalue": "name 're' is not defined",
     "output_type": "error",
     "traceback": [
      "\u001b[1;31m---------------------------------------------------------------------------\u001b[0m",
      "\u001b[1;31mNameError\u001b[0m                                 Traceback (most recent call last)",
      "Input \u001b[1;32mIn [1]\u001b[0m, in \u001b[0;36m<cell line: 14>\u001b[1;34m()\u001b[0m\n\u001b[0;32m     11\u001b[0m     \u001b[38;5;28;01mreturn\u001b[39;00m add\n\u001b[0;32m     13\u001b[0m string  \u001b[38;5;241m=\u001b[39m \u001b[38;5;124m\"\u001b[39m\u001b[38;5;124m34.46Sq. Meter\u001b[39m\u001b[38;5;124m\"\u001b[39m\n\u001b[1;32m---> 14\u001b[0m \u001b[43maverage_sqft\u001b[49m\u001b[43m(\u001b[49m\u001b[43mstring\u001b[49m\u001b[43m)\u001b[49m\n",
      "Input \u001b[1;32mIn [1]\u001b[0m, in \u001b[0;36maverage_sqft\u001b[1;34m(string)\u001b[0m\n\u001b[0;32m      1\u001b[0m \u001b[38;5;28;01mdef\u001b[39;00m \u001b[38;5;21maverage_sqft\u001b[39m(string):\n\u001b[1;32m----> 2\u001b[0m     string \u001b[38;5;241m=\u001b[39m \u001b[43mre\u001b[49m\u001b[38;5;241m.\u001b[39mfindall(\u001b[38;5;124m\"\u001b[39m\u001b[38;5;124m[^a-zA-z]+\u001b[39m\u001b[38;5;124m\"\u001b[39m,string)[\u001b[38;5;241m0\u001b[39m]\n\u001b[0;32m      3\u001b[0m     a \u001b[38;5;241m=\u001b[39m string\u001b[38;5;241m.\u001b[39msplit(\u001b[38;5;124m\"\u001b[39m\u001b[38;5;124m-\u001b[39m\u001b[38;5;124m\"\u001b[39m)\n\u001b[0;32m      4\u001b[0m     b \u001b[38;5;241m=\u001b[39m []\n",
      "\u001b[1;31mNameError\u001b[0m: name 're' is not defined"
     ]
    }
   ],
   "source": [
    "def average_sqft(string):\n",
    "    string = re.findall(\"[^a-zA-z]+\",string)[0]\n",
    "    a = string.split(\"-\")\n",
    "    b = []\n",
    "    for i in a :\n",
    "        i = i.strip()\n",
    "        b.append(eval(i))\n",
    "    add = 0    \n",
    "    for j in b:\n",
    "        add = (add + j)\n",
    "    return add\n",
    "\n",
    "string  = \"34.46Sq. Meter\"\n",
    "average_sqft(string)"
   ]
  },
  {
   "cell_type": "code",
   "execution_count": 521,
   "id": "01cde814",
   "metadata": {},
   "outputs": [],
   "source": [
    "df[\"total_sqft\"] = df[\"total_sqft\"].apply(average_sqft)"
   ]
  },
  {
   "cell_type": "code",
   "execution_count": 522,
   "id": "f46c503e",
   "metadata": {},
   "outputs": [
    {
     "data": {
      "text/plain": [
       "0"
      ]
     },
     "execution_count": 522,
     "metadata": {},
     "output_type": "execute_result"
    }
   ],
   "source": [
    "df[\"total_sqft\"].isna().sum()"
   ]
  },
  {
   "cell_type": "code",
   "execution_count": 523,
   "id": "1a28433b",
   "metadata": {},
   "outputs": [
    {
     "data": {
      "text/plain": [
       "0        1056.0\n",
       "1        2600.0\n",
       "2        1440.0\n",
       "3        1521.0\n",
       "4        1200.0\n",
       "          ...  \n",
       "13315    3453.0\n",
       "13316    3600.0\n",
       "13317    1141.0\n",
       "13318    4689.0\n",
       "13319     550.0\n",
       "Name: total_sqft, Length: 13320, dtype: float64"
      ]
     },
     "execution_count": 523,
     "metadata": {},
     "output_type": "execute_result"
    }
   ],
   "source": [
    "df[\"total_sqft\"]"
   ]
  },
  {
   "cell_type": "markdown",
   "id": "5ab5b48d",
   "metadata": {},
   "source": [
    "##### 6. df[\"bath\"]"
   ]
  },
  {
   "cell_type": "code",
   "execution_count": 524,
   "id": "50389236",
   "metadata": {},
   "outputs": [
    {
     "data": {
      "text/plain": [
       "0        2.0\n",
       "1        5.0\n",
       "2        2.0\n",
       "3        3.0\n",
       "4        2.0\n",
       "        ... \n",
       "13315    4.0\n",
       "13316    5.0\n",
       "13317    2.0\n",
       "13318    4.0\n",
       "13319    1.0\n",
       "Name: bath, Length: 13320, dtype: float64"
      ]
     },
     "execution_count": 524,
     "metadata": {},
     "output_type": "execute_result"
    }
   ],
   "source": [
    "df[\"bath\"]"
   ]
  },
  {
   "cell_type": "code",
   "execution_count": 525,
   "id": "507628d0",
   "metadata": {},
   "outputs": [
    {
     "data": {
      "text/plain": [
       "73"
      ]
     },
     "execution_count": 525,
     "metadata": {},
     "output_type": "execute_result"
    }
   ],
   "source": [
    "df[\"bath\"].isna().sum()"
   ]
  },
  {
   "cell_type": "code",
   "execution_count": 526,
   "id": "628ea4f3",
   "metadata": {},
   "outputs": [],
   "source": [
    "df[\"bath\"] = df[\"bath\"].fillna(df[\"bath\"].median())"
   ]
  },
  {
   "cell_type": "code",
   "execution_count": 527,
   "id": "b7560155",
   "metadata": {},
   "outputs": [
    {
     "data": {
      "text/plain": [
       "0"
      ]
     },
     "execution_count": 527,
     "metadata": {},
     "output_type": "execute_result"
    }
   ],
   "source": [
    "df[\"bath\"].isna().sum()"
   ]
  },
  {
   "cell_type": "code",
   "execution_count": 528,
   "id": "406f08ee",
   "metadata": {},
   "outputs": [
    {
     "data": {
      "text/plain": [
       "<AxesSubplot:>"
      ]
     },
     "execution_count": 528,
     "metadata": {},
     "output_type": "execute_result"
    },
    {
     "data": {
      "image/png": "[encoded data removed]",
      "text/plain": [
       "<Figure size 640x480 with 1 Axes>"
      ]
     },
     "metadata": {},
     "output_type": "display_data"
    }
   ],
   "source": [
    "df[[\"bath\"]].boxplot()"
   ]
  },
  {
   "cell_type": "code",
   "execution_count": 529,
   "id": "812af7a3",
   "metadata": {},
   "outputs": [
    {
     "name": "stdout",
     "output_type": "stream",
     "text": [
      "Q1 : 2.0\n",
      "Q2 : 2.0\n",
      "Q3 : 3.0\n",
      "Median : 2.0\n",
      "upper_tail : 4.5\n",
      "lower_tail : 0.5\n"
     ]
    }
   ],
   "source": [
    "q1 = df[\"bath\"].quantile(0.25)\n",
    "q2 = df[\"bath\"].quantile(0.50)\n",
    "q3 = df[\"bath\"].quantile(0.75)\n",
    "median = df[\"bath\"].median()\n",
    "\n",
    "iqr = q3 - q1\n",
    "upper_tail = q3 + 1.5*iqr\n",
    "lower_tail = q1 - 1.5*iqr\n",
    "print(\"Q1 :\",q1)\n",
    "print(\"Q2 :\",q2)\n",
    "print(\"Q3 :\",q3)\n",
    "print(\"Median :\",median)\n",
    "print(\"upper_tail :\",upper_tail)\n",
    "print(\"lower_tail :\",lower_tail)"
   ]
  },
  {
   "cell_type": "code",
   "execution_count": 530,
   "id": "527aa5db",
   "metadata": {},
   "outputs": [
    {
     "name": "stdout",
     "output_type": "stream",
     "text": [
      "bath    2.0\n",
      "dtype: float64\n"
     ]
    }
   ],
   "source": [
    "df[\"bath\"].loc[df[\"bath\"] > upper_tail]\n",
    "median = df[[\"bath\"]].loc[df[\"bath\"] < upper_tail].median()\n",
    "print(median)"
   ]
  },
  {
   "cell_type": "code",
   "execution_count": 531,
   "id": "b156ae7c",
   "metadata": {},
   "outputs": [
    {
     "data": {
      "text/plain": [
       "Series([], Name: bath, dtype: float64)"
      ]
     },
     "execution_count": 531,
     "metadata": {},
     "output_type": "execute_result"
    }
   ],
   "source": [
    "df[\"bath\"].loc[df[\"bath\"] > upper_tail] = median\n",
    "df[\"bath\"].loc[df[\"bath\"] > upper_tail]"
   ]
  },
  {
   "cell_type": "code",
   "execution_count": 532,
   "id": "cdd5d9ed",
   "metadata": {},
   "outputs": [
    {
     "data": {
      "text/plain": [
       "<AxesSubplot:>"
      ]
     },
     "execution_count": 532,
     "metadata": {},
     "output_type": "execute_result"
    },
    {
     "data": {
      "image/png": "[encoded data removed]",
      "text/plain": [
       "<Figure size 640x480 with 1 Axes>"
      ]
     },
     "metadata": {},
     "output_type": "display_data"
    }
   ],
   "source": [
    "df[[\"bath\"]].boxplot()"
   ]
  },
  {
   "cell_type": "code",
   "execution_count": 533,
   "id": "688c1c58",
   "metadata": {},
   "outputs": [],
   "source": [
    "df[\"bath\"] = df[\"bath\"].fillna(df[\"bath\"].median())"
   ]
  },
  {
   "cell_type": "code",
   "execution_count": 534,
   "id": "720605ba",
   "metadata": {},
   "outputs": [
    {
     "data": {
      "text/plain": [
       "0"
      ]
     },
     "execution_count": 534,
     "metadata": {},
     "output_type": "execute_result"
    }
   ],
   "source": [
    "df[\"bath\"].isna().sum()"
   ]
  },
  {
   "cell_type": "markdown",
   "id": "99a51e37",
   "metadata": {},
   "source": [
    "#### 7. df[\"balcony\"]"
   ]
  },
  {
   "cell_type": "code",
   "execution_count": 535,
   "id": "46a3952e",
   "metadata": {},
   "outputs": [
    {
     "data": {
      "text/plain": [
       "0        1.0\n",
       "1        3.0\n",
       "2        3.0\n",
       "3        1.0\n",
       "4        1.0\n",
       "        ... \n",
       "13315    0.0\n",
       "13316    NaN\n",
       "13317    1.0\n",
       "13318    1.0\n",
       "13319    1.0\n",
       "Name: balcony, Length: 13320, dtype: float64"
      ]
     },
     "execution_count": 535,
     "metadata": {},
     "output_type": "execute_result"
    }
   ],
   "source": [
    "df[\"balcony\"]"
   ]
  },
  {
   "cell_type": "code",
   "execution_count": 536,
   "id": "efbd0b7d",
   "metadata": {},
   "outputs": [
    {
     "data": {
      "text/plain": [
       "609"
      ]
     },
     "execution_count": 536,
     "metadata": {},
     "output_type": "execute_result"
    }
   ],
   "source": [
    "df[\"balcony\"].isna().sum()"
   ]
  },
  {
   "cell_type": "code",
   "execution_count": 537,
   "id": "5f790671",
   "metadata": {},
   "outputs": [],
   "source": [
    "df[\"balcony\"] = df[\"balcony\"].fillna(df[\"balcony\"].median())"
   ]
  },
  {
   "cell_type": "code",
   "execution_count": 538,
   "id": "b5599099",
   "metadata": {},
   "outputs": [],
   "source": [
    "df[\"balcony\"] = df[\"balcony\"].astype(int)"
   ]
  },
  {
   "cell_type": "code",
   "execution_count": 539,
   "id": "80f0c130",
   "metadata": {},
   "outputs": [
    {
     "data": {
      "text/plain": [
       "array([1, 3, 2, 0])"
      ]
     },
     "execution_count": 539,
     "metadata": {},
     "output_type": "execute_result"
    }
   ],
   "source": [
    "df[\"balcony\"].unique()"
   ]
  },
  {
   "cell_type": "code",
   "execution_count": 540,
   "id": "2871065e",
   "metadata": {},
   "outputs": [
    {
     "data": {
      "text/plain": [
       "4"
      ]
     },
     "execution_count": 540,
     "metadata": {},
     "output_type": "execute_result"
    }
   ],
   "source": [
    "df[\"balcony\"].nunique()"
   ]
  },
  {
   "cell_type": "code",
   "execution_count": 541,
   "id": "fccee1bb",
   "metadata": {},
   "outputs": [
    {
     "data": {
      "text/plain": [
       "{2: 5722, 1: 4897, 3: 1672, 0: 1029}"
      ]
     },
     "execution_count": 541,
     "metadata": {},
     "output_type": "execute_result"
    }
   ],
   "source": [
    "df[\"balcony\"].value_counts().to_dict()"
   ]
  },
  {
   "cell_type": "code",
   "execution_count": 542,
   "id": "165866d5",
   "metadata": {},
   "outputs": [
    {
     "data": {
      "text/plain": [
       "0"
      ]
     },
     "execution_count": 542,
     "metadata": {},
     "output_type": "execute_result"
    }
   ],
   "source": [
    "df[\"balcony\"].isna().sum()"
   ]
  },
  {
   "cell_type": "code",
   "execution_count": 543,
   "id": "43121d43",
   "metadata": {},
   "outputs": [
    {
     "data": {
      "text/plain": [
       "<AxesSubplot:>"
      ]
     },
     "execution_count": 543,
     "metadata": {},
     "output_type": "execute_result"
    },
    {
     "data": {
      "image/png": "[encoded data removed]",
      "text/plain": [
       "<Figure size 640x480 with 1 Axes>"
      ]
     },
     "metadata": {},
     "output_type": "display_data"
    }
   ],
   "source": [
    "df[[\"balcony\"]].boxplot()"
   ]
  },
  {
   "cell_type": "markdown",
   "id": "8dc5cbee",
   "metadata": {},
   "source": [
    "# Remove Outlier "
   ]
  },
  {
   "cell_type": "code",
   "execution_count": 544,
   "id": "360da89d",
   "metadata": {},
   "outputs": [
    {
     "data": {
      "text/plain": [
       "<AxesSubplot:xlabel='size'>"
      ]
     },
     "execution_count": 544,
     "metadata": {},
     "output_type": "execute_result"
    },
    {
     "data": {
      "image/png": "[encoded data removed]",
      "text/plain": [
       "<Figure size 640x480 with 1 Axes>"
      ]
     },
     "metadata": {},
     "output_type": "display_data"
    }
   ],
   "source": [
    "sns.boxplot(df[\"size\"])"
   ]
  },
  {
   "cell_type": "code",
   "execution_count": 545,
   "id": "f81b2d59",
   "metadata": {},
   "outputs": [
    {
     "name": "stdout",
     "output_type": "stream",
     "text": [
      "Q1 : 7.0\n",
      "Q2 : 7.0\n",
      "Q3 : 9.0\n",
      "Median : 7.0\n",
      "upper_tail : 12.0\n",
      "lower_tail : 4.0\n"
     ]
    }
   ],
   "source": [
    "q1 = df[\"size\"].quantile(0.25)\n",
    "q2 = df[\"size\"].quantile(0.50)\n",
    "q3 = df[\"size\"].quantile(0.75)\n",
    "median = df[\"size\"].median()\n",
    "\n",
    "iqr = q3 - q1\n",
    "upper_tail = q3 + 1.5*iqr\n",
    "lower_tail = q1 - 1.5*iqr\n",
    "print(\"Q1 :\",q1)\n",
    "print(\"Q2 :\",q2)\n",
    "print(\"Q3 :\",q3)\n",
    "print(\"Median :\",median)\n",
    "print(\"upper_tail :\",upper_tail)\n",
    "print(\"lower_tail :\",lower_tail)"
   ]
  },
  {
   "cell_type": "code",
   "execution_count": 546,
   "id": "d32e6b8d",
   "metadata": {},
   "outputs": [
    {
     "data": {
      "text/plain": [
       "7.0"
      ]
     },
     "execution_count": 546,
     "metadata": {},
     "output_type": "execute_result"
    }
   ],
   "source": [
    "median = df[\"size\"].loc[(df[\"size\"] < upper_tail) & (df[\"size\"] > lower_tail)].median()\n",
    "median"
   ]
  },
  {
   "cell_type": "code",
   "execution_count": 547,
   "id": "46795dbd",
   "metadata": {},
   "outputs": [],
   "source": [
    "df[\"size\"].loc[(df[\"size\"] > upper_tail) | (df[\"size\"] < lower_tail)] = median"
   ]
  },
  {
   "cell_type": "code",
   "execution_count": 548,
   "id": "51b23db1",
   "metadata": {},
   "outputs": [
    {
     "data": {
      "text/plain": [
       "Series([], Name: size, dtype: int64)"
      ]
     },
     "execution_count": 548,
     "metadata": {},
     "output_type": "execute_result"
    }
   ],
   "source": [
    "df[\"size\"].loc[(df[\"size\"] > upper_tail) | (df[\"size\"] < lower_tail)] "
   ]
  },
  {
   "cell_type": "code",
   "execution_count": 549,
   "id": "a1600763",
   "metadata": {},
   "outputs": [
    {
     "data": {
      "text/plain": [
       "<AxesSubplot:xlabel='size'>"
      ]
     },
     "execution_count": 549,
     "metadata": {},
     "output_type": "execute_result"
    },
    {
     "data": {
      "image/png": "[encoded data removed]",
      "text/plain": [
       "<Figure size 640x480 with 1 Axes>"
      ]
     },
     "metadata": {},
     "output_type": "display_data"
    }
   ],
   "source": [
    "sns.boxplot(df[\"size\"])"
   ]
  },
  {
   "cell_type": "code",
   "execution_count": 550,
   "id": "cff63825",
   "metadata": {},
   "outputs": [
    {
     "data": {
      "text/plain": [
       "array([1056., 2600., 1440., ..., 2517.,  774., 4689.])"
      ]
     },
     "execution_count": 550,
     "metadata": {},
     "output_type": "execute_result"
    }
   ],
   "source": [
    "df[\"total_sqft\"].unique()"
   ]
  },
  {
   "cell_type": "code",
   "execution_count": 551,
   "id": "da3ae872",
   "metadata": {},
   "outputs": [
    {
     "data": {
      "text/plain": [
       "<AxesSubplot:xlabel='total_sqft'>"
      ]
     },
     "execution_count": 551,
     "metadata": {},
     "output_type": "execute_result"
    },
    {
     "data": {
      "image/png": "[encoded data removed]",
      "text/plain": [
       "<Figure size 640x480 with 1 Axes>"
      ]
     },
     "metadata": {},
     "output_type": "display_data"
    }
   ],
   "source": [
    "sns.boxplot(df[\"total_sqft\"])"
   ]
  },
  {
   "cell_type": "code",
   "execution_count": 552,
   "id": "1baef9f2",
   "metadata": {},
   "outputs": [
    {
     "name": "stdout",
     "output_type": "stream",
     "text": [
      "Q1 : 1100.0\n",
      "Q2 : 1280.0\n",
      "Q3 : 1691.0\n",
      "Median : 1280.0\n",
      "upper_tail : 2577.5\n",
      "lower_tail : 213.5\n"
     ]
    }
   ],
   "source": [
    "q1 = df[\"total_sqft\"].quantile(0.25)\n",
    "q2 = df[\"total_sqft\"].quantile(0.50)\n",
    "q3 = df[\"total_sqft\"].quantile(0.75)\n",
    "median = df[\"total_sqft\"].median()\n",
    "\n",
    "iqr = q3 - q1\n",
    "upper_tail = q3 + 1.5*iqr\n",
    "lower_tail = q1 - 1.5*iqr\n",
    "print(\"Q1 :\",q1)\n",
    "print(\"Q2 :\",q2)\n",
    "print(\"Q3 :\",q3)\n",
    "print(\"Median :\",median)\n",
    "print(\"upper_tail :\",upper_tail)\n",
    "print(\"lower_tail :\",lower_tail)"
   ]
  },
  {
   "cell_type": "code",
   "execution_count": 553,
   "id": "321c3bae",
   "metadata": {},
   "outputs": [
    {
     "data": {
      "text/plain": [
       "Series([], Name: total_sqft, dtype: float64)"
      ]
     },
     "execution_count": 553,
     "metadata": {},
     "output_type": "execute_result"
    }
   ],
   "source": [
    "median = df[\"total_sqft\"].loc[(df[\"total_sqft\"] < upper_tail) & (df[\"total_sqft\"] > lower_tail) ].median()\n",
    "df[\"total_sqft\"].loc[(df[\"total_sqft\"] > upper_tail) | (df[\"total_sqft\"] < lower_tail) ] = median\n",
    "df[\"total_sqft\"].loc[(df[\"total_sqft\"] > upper_tail) | (df[\"total_sqft\"] < lower_tail) ] \n"
   ]
  },
  {
   "cell_type": "code",
   "execution_count": 554,
   "id": "7d824390",
   "metadata": {},
   "outputs": [],
   "source": [
    "# df[\"total_sqft\"].loc[(df[\"total_sqft\"] > upper_tail) | (df[\"total_sqft\"] < lower_tail) ] = median"
   ]
  },
  {
   "cell_type": "code",
   "execution_count": 555,
   "id": "004375a4",
   "metadata": {},
   "outputs": [],
   "source": [
    "# df[\"total_sqft\"].loc[(df[\"total_sqft\"] > upper_tail) | (df[\"total_sqft\"] < lower_tail) ] "
   ]
  },
  {
   "cell_type": "code",
   "execution_count": 556,
   "id": "7fdc0df6",
   "metadata": {},
   "outputs": [
    {
     "data": {
      "text/plain": [
       "<AxesSubplot:xlabel='total_sqft'>"
      ]
     },
     "execution_count": 556,
     "metadata": {},
     "output_type": "execute_result"
    },
    {
     "data": {
      "image/png": "[encoded data removed]",
      "text/plain": [
       "<Figure size 640x480 with 1 Axes>"
      ]
     },
     "metadata": {},
     "output_type": "display_data"
    }
   ],
   "source": [
    "sns.boxplot(df[\"total_sqft\"])"
   ]
  },
  {
   "cell_type": "code",
   "execution_count": 557,
   "id": "c8a125d3",
   "metadata": {},
   "outputs": [
    {
     "data": {
      "text/plain": [
       "<AxesSubplot:xlabel='bath'>"
      ]
     },
     "execution_count": 557,
     "metadata": {},
     "output_type": "execute_result"
    },
    {
     "data": {
      "image/png": "[encoded data removed]",
      "text/plain": [
       "<Figure size 640x480 with 1 Axes>"
      ]
     },
     "metadata": {},
     "output_type": "display_data"
    }
   ],
   "source": [
    "sns.boxplot(df[\"bath\"])"
   ]
  },
  {
   "cell_type": "code",
   "execution_count": 558,
   "id": "9ec6db63",
   "metadata": {},
   "outputs": [
    {
     "name": "stdout",
     "output_type": "stream",
     "text": [
      "Q1 : 2.0\n",
      "Q2 : 2.0\n",
      "Q3 : 3.0\n",
      "Median : 2.0\n",
      "upper_tail : 4.5\n",
      "lower_tail : 0.5\n"
     ]
    }
   ],
   "source": [
    "q1 = df[\"bath\"].quantile(0.25)\n",
    "q2 = df[\"bath\"].quantile(0.50)\n",
    "q3 = df[\"bath\"].quantile(0.75)\n",
    "median = df[\"bath\"].median()\n",
    "\n",
    "iqr = q3 - q1\n",
    "upper_tail = q3 + 1.5*iqr\n",
    "lower_tail = q1 - 1.5*iqr\n",
    "print(\"Q1 :\",q1)\n",
    "print(\"Q2 :\",q2)\n",
    "print(\"Q3 :\",q3)\n",
    "print(\"Median :\",median)\n",
    "print(\"upper_tail :\",upper_tail)\n",
    "print(\"lower_tail :\",lower_tail)"
   ]
  },
  {
   "cell_type": "code",
   "execution_count": 559,
   "id": "4c4dd625",
   "metadata": {},
   "outputs": [
    {
     "data": {
      "text/plain": [
       "Series([], Name: bath, dtype: float64)"
      ]
     },
     "execution_count": 559,
     "metadata": {},
     "output_type": "execute_result"
    }
   ],
   "source": [
    "median = df[\"bath\"].loc[(df[\"bath\"] < upper_tail) & (df[\"bath\"] > lower_tail) ].median()\n",
    "df[\"bath\"].loc[(df[\"bath\"] > upper_tail) | (df[\"bath\"] < lower_tail) ] = median\n",
    "df[\"bath\"].loc[(df[\"bath\"] > upper_tail) | (df[\"bath\"] < lower_tail) ] \n"
   ]
  },
  {
   "cell_type": "code",
   "execution_count": 560,
   "id": "6212e158",
   "metadata": {},
   "outputs": [
    {
     "data": {
      "text/plain": [
       "<AxesSubplot:xlabel='bath'>"
      ]
     },
     "execution_count": 560,
     "metadata": {},
     "output_type": "execute_result"
    },
    {
     "data": {
      "image/png": "[encoded data removed]",
      "text/plain": [
       "<Figure size 640x480 with 1 Axes>"
      ]
     },
     "metadata": {},
     "output_type": "display_data"
    }
   ],
   "source": [
    "sns.boxplot(df[\"bath\"])"
   ]
  },
  {
   "cell_type": "code",
   "execution_count": 561,
   "id": "95ff4b78",
   "metadata": {},
   "outputs": [
    {
     "data": {
      "text/plain": [
       "<AxesSubplot:xlabel='balcony'>"
      ]
     },
     "execution_count": 561,
     "metadata": {},
     "output_type": "execute_result"
    },
    {
     "data": {
      "image/png": "[encoded data removed]",
      "text/plain": [
       "<Figure size 640x480 with 1 Axes>"
      ]
     },
     "metadata": {},
     "output_type": "display_data"
    }
   ],
   "source": [
    "sns.boxplot(df[\"balcony\"])"
   ]
  },
  {
   "cell_type": "code",
   "execution_count": 562,
   "id": "46082f60",
   "metadata": {},
   "outputs": [
    {
     "data": {
      "text/html": [
       "<div>\n",
       "<style scoped>\n",
       "    .dataframe tbody tr th:only-of-type {\n",
       "        vertical-align: middle;\n",
       "    }\n",
       "\n",
       "    .dataframe tbody tr th {\n",
       "        vertical-align: top;\n",
       "    }\n",
       "\n",
       "    .dataframe thead th {\n",
       "        text-align: right;\n",
       "    }\n",
       "</style>\n",
       "<table border=\"1\" class=\"dataframe\">\n",
       "  <thead>\n",
       "    <tr style=\"text-align: right;\">\n",
       "      <th></th>\n",
       "      <th>availability</th>\n",
       "      <th>size</th>\n",
       "      <th>total_sqft</th>\n",
       "      <th>bath</th>\n",
       "      <th>balcony</th>\n",
       "      <th>price</th>\n",
       "      <th>area_type_Built_up_Area</th>\n",
       "      <th>area_type_Carpet_Area</th>\n",
       "      <th>area_type_Plot_Area</th>\n",
       "      <th>area_type_Super_built_up_Area</th>\n",
       "    </tr>\n",
       "  </thead>\n",
       "  <tbody>\n",
       "    <tr>\n",
       "      <th>availability</th>\n",
       "      <td>1.000000</td>\n",
       "      <td>0.028067</td>\n",
       "      <td>-0.026226</td>\n",
       "      <td>-0.041380</td>\n",
       "      <td>-0.112178</td>\n",
       "      <td>-0.037534</td>\n",
       "      <td>-0.115682</td>\n",
       "      <td>0.008766</td>\n",
       "      <td>-0.103576</td>\n",
       "      <td>0.171134</td>\n",
       "    </tr>\n",
       "    <tr>\n",
       "      <th>size</th>\n",
       "      <td>0.028067</td>\n",
       "      <td>1.000000</td>\n",
       "      <td>0.377263</td>\n",
       "      <td>0.201690</td>\n",
       "      <td>0.246997</td>\n",
       "      <td>-0.005254</td>\n",
       "      <td>-0.042036</td>\n",
       "      <td>0.001875</td>\n",
       "      <td>-0.341124</td>\n",
       "      <td>0.292422</td>\n",
       "    </tr>\n",
       "    <tr>\n",
       "      <th>total_sqft</th>\n",
       "      <td>-0.026226</td>\n",
       "      <td>0.377263</td>\n",
       "      <td>1.000000</td>\n",
       "      <td>0.481797</td>\n",
       "      <td>0.240230</td>\n",
       "      <td>0.218815</td>\n",
       "      <td>-0.032947</td>\n",
       "      <td>-0.018772</td>\n",
       "      <td>-0.025032</td>\n",
       "      <td>0.048971</td>\n",
       "    </tr>\n",
       "    <tr>\n",
       "      <th>bath</th>\n",
       "      <td>-0.041380</td>\n",
       "      <td>0.201690</td>\n",
       "      <td>0.481797</td>\n",
       "      <td>1.000000</td>\n",
       "      <td>0.258128</td>\n",
       "      <td>0.273736</td>\n",
       "      <td>-0.013989</td>\n",
       "      <td>-0.001695</td>\n",
       "      <td>0.188359</td>\n",
       "      <td>-0.131087</td>\n",
       "    </tr>\n",
       "    <tr>\n",
       "      <th>balcony</th>\n",
       "      <td>-0.112178</td>\n",
       "      <td>0.246997</td>\n",
       "      <td>0.240230</td>\n",
       "      <td>0.258128</td>\n",
       "      <td>1.000000</td>\n",
       "      <td>0.124951</td>\n",
       "      <td>-0.062810</td>\n",
       "      <td>-0.016821</td>\n",
       "      <td>-0.081458</td>\n",
       "      <td>0.115703</td>\n",
       "    </tr>\n",
       "    <tr>\n",
       "      <th>price</th>\n",
       "      <td>-0.037534</td>\n",
       "      <td>-0.005254</td>\n",
       "      <td>0.218815</td>\n",
       "      <td>0.273736</td>\n",
       "      <td>0.124951</td>\n",
       "      <td>1.000000</td>\n",
       "      <td>-0.026177</td>\n",
       "      <td>-0.012553</td>\n",
       "      <td>0.272669</td>\n",
       "      <td>-0.183222</td>\n",
       "    </tr>\n",
       "    <tr>\n",
       "      <th>area_type_Built_up_Area</th>\n",
       "      <td>-0.115682</td>\n",
       "      <td>-0.042036</td>\n",
       "      <td>-0.032947</td>\n",
       "      <td>-0.013989</td>\n",
       "      <td>-0.062810</td>\n",
       "      <td>-0.026177</td>\n",
       "      <td>1.000000</td>\n",
       "      <td>-0.038186</td>\n",
       "      <td>-0.199409</td>\n",
       "      <td>-0.656025</td>\n",
       "    </tr>\n",
       "    <tr>\n",
       "      <th>area_type_Carpet_Area</th>\n",
       "      <td>0.008766</td>\n",
       "      <td>0.001875</td>\n",
       "      <td>-0.018772</td>\n",
       "      <td>-0.001695</td>\n",
       "      <td>-0.016821</td>\n",
       "      <td>-0.012553</td>\n",
       "      <td>-0.038186</td>\n",
       "      <td>1.000000</td>\n",
       "      <td>-0.034332</td>\n",
       "      <td>-0.112947</td>\n",
       "    </tr>\n",
       "    <tr>\n",
       "      <th>area_type_Plot_Area</th>\n",
       "      <td>-0.103576</td>\n",
       "      <td>-0.341124</td>\n",
       "      <td>-0.025032</td>\n",
       "      <td>0.188359</td>\n",
       "      <td>-0.081458</td>\n",
       "      <td>0.272669</td>\n",
       "      <td>-0.199409</td>\n",
       "      <td>-0.034332</td>\n",
       "      <td>1.000000</td>\n",
       "      <td>-0.589814</td>\n",
       "    </tr>\n",
       "    <tr>\n",
       "      <th>area_type_Super_built_up_Area</th>\n",
       "      <td>0.171134</td>\n",
       "      <td>0.292422</td>\n",
       "      <td>0.048971</td>\n",
       "      <td>-0.131087</td>\n",
       "      <td>0.115703</td>\n",
       "      <td>-0.183222</td>\n",
       "      <td>-0.656025</td>\n",
       "      <td>-0.112947</td>\n",
       "      <td>-0.589814</td>\n",
       "      <td>1.000000</td>\n",
       "    </tr>\n",
       "  </tbody>\n",
       "</table>\n",
       "</div>"
      ],
      "text/plain": [
       "                               availability      size  total_sqft      bath  \\\n",
       "availability                       1.000000  0.028067   -0.026226 -0.041380   \n",
       "size                               0.028067  1.000000    0.377263  0.201690   \n",
       "total_sqft                        -0.026226  0.377263    1.000000  0.481797   \n",
       "bath                              -0.041380  0.201690    0.481797  1.000000   \n",
       "balcony                           -0.112178  0.246997    0.240230  0.258128   \n",
       "price                             -0.037534 -0.005254    0.218815  0.273736   \n",
       "area_type_Built_up_Area           -0.115682 -0.042036   -0.032947 -0.013989   \n",
       "area_type_Carpet_Area              0.008766  0.001875   -0.018772 -0.001695   \n",
       "area_type_Plot_Area               -0.103576 -0.341124   -0.025032  0.188359   \n",
       "area_type_Super_built_up_Area      0.171134  0.292422    0.048971 -0.131087   \n",
       "\n",
       "                                balcony     price  area_type_Built_up_Area  \\\n",
       "availability                  -0.112178 -0.037534                -0.115682   \n",
       "size                           0.246997 -0.005254                -0.042036   \n",
       "total_sqft                     0.240230  0.218815                -0.032947   \n",
       "bath                           0.258128  0.273736                -0.013989   \n",
       "balcony                        1.000000  0.124951                -0.062810   \n",
       "price                          0.124951  1.000000                -0.026177   \n",
       "area_type_Built_up_Area       -0.062810 -0.026177                 1.000000   \n",
       "area_type_Carpet_Area         -0.016821 -0.012553                -0.038186   \n",
       "area_type_Plot_Area           -0.081458  0.272669                -0.199409   \n",
       "area_type_Super_built_up_Area  0.115703 -0.183222                -0.656025   \n",
       "\n",
       "                               area_type_Carpet_Area  area_type_Plot_Area  \\\n",
       "availability                                0.008766            -0.103576   \n",
       "size                                        0.001875            -0.341124   \n",
       "total_sqft                                 -0.018772            -0.025032   \n",
       "bath                                       -0.001695             0.188359   \n",
       "balcony                                    -0.016821            -0.081458   \n",
       "price                                      -0.012553             0.272669   \n",
       "area_type_Built_up_Area                    -0.038186            -0.199409   \n",
       "area_type_Carpet_Area                       1.000000            -0.034332   \n",
       "area_type_Plot_Area                        -0.034332             1.000000   \n",
       "area_type_Super_built_up_Area              -0.112947            -0.589814   \n",
       "\n",
       "                               area_type_Super_built_up_Area  \n",
       "availability                                        0.171134  \n",
       "size                                                0.292422  \n",
       "total_sqft                                          0.048971  \n",
       "bath                                               -0.131087  \n",
       "balcony                                             0.115703  \n",
       "price                                              -0.183222  \n",
       "area_type_Built_up_Area                            -0.656025  \n",
       "area_type_Carpet_Area                              -0.112947  \n",
       "area_type_Plot_Area                                -0.589814  \n",
       "area_type_Super_built_up_Area                       1.000000  "
      ]
     },
     "execution_count": 562,
     "metadata": {},
     "output_type": "execute_result"
    }
   ],
   "source": [
    "df.corr()"
   ]
  },
  {
   "cell_type": "code",
   "execution_count": 563,
   "id": "0ac42d63",
   "metadata": {},
   "outputs": [
    {
     "data": {
      "text/plain": [
       "<seaborn.axisgrid.PairGrid at 0x190664a6bf0>"
      ]
     },
     "execution_count": 563,
     "metadata": {},
     "output_type": "execute_result"
    },
    {
     "data": {
      "image/png": "[encoded data removed]",
      "text/plain": [
       "<Figure size 2500x2500 with 110 Axes>"
      ]
     },
     "metadata": {},
     "output_type": "display_data"
    }
   ],
   "source": [
    "sns.pairplot(df.corr())"
   ]
  },
  {
   "cell_type": "code",
   "execution_count": 564,
   "id": "b38f65a5",
   "metadata": {},
   "outputs": [
    {
     "data": {
      "text/plain": [
       "availability                     0\n",
       "size                             0\n",
       "total_sqft                       0\n",
       "bath                             0\n",
       "balcony                          0\n",
       "price                            0\n",
       "area_type_Built_up_Area          0\n",
       "area_type_Carpet_Area            0\n",
       "area_type_Plot_Area              0\n",
       "area_type_Super_built_up_Area    0\n",
       "dtype: int64"
      ]
     },
     "execution_count": 564,
     "metadata": {},
     "output_type": "execute_result"
    }
   ],
   "source": [
    "df.isna().sum()"
   ]
  },
  {
   "cell_type": "code",
   "execution_count": 565,
   "id": "7f5a2b5c",
   "metadata": {},
   "outputs": [
    {
     "name": "stdout",
     "output_type": "stream",
     "text": [
      "<class 'pandas.core.frame.DataFrame'>\n",
      "RangeIndex: 13320 entries, 0 to 13319\n",
      "Data columns (total 10 columns):\n",
      " #   Column                         Non-Null Count  Dtype  \n",
      "---  ------                         --------------  -----  \n",
      " 0   availability                   13320 non-null  int64  \n",
      " 1   size                           13320 non-null  int64  \n",
      " 2   total_sqft                     13320 non-null  float64\n",
      " 3   bath                           13320 non-null  float64\n",
      " 4   balcony                        13320 non-null  int32  \n",
      " 5   price                          13320 non-null  float64\n",
      " 6   area_type_Built_up_Area        13320 non-null  uint8  \n",
      " 7   area_type_Carpet_Area          13320 non-null  uint8  \n",
      " 8   area_type_Plot_Area            13320 non-null  uint8  \n",
      " 9   area_type_Super_built_up_Area  13320 non-null  uint8  \n",
      "dtypes: float64(3), int32(1), int64(2), uint8(4)\n",
      "memory usage: 624.5 KB\n"
     ]
    }
   ],
   "source": [
    "df.info()"
   ]
  },
  {
   "cell_type": "code",
   "execution_count": null,
   "id": "f439174a",
   "metadata": {},
   "outputs": [],
   "source": []
  },
  {
   "cell_type": "markdown",
   "id": "9657b0e7",
   "metadata": {},
   "source": [
    "## Train model "
   ]
  },
  {
   "cell_type": "code",
   "execution_count": 566,
   "id": "8f154b5f",
   "metadata": {},
   "outputs": [],
   "source": [
    "x = df.drop(\"price\",axis=1)\n",
    "y = df[\"price\"]"
   ]
  },
  {
   "cell_type": "code",
   "execution_count": 567,
   "id": "f618a308",
   "metadata": {},
   "outputs": [],
   "source": [
    "x_train , x_test ,y_train ,y_test = train_test_split(x,y,test_size=0.2,random_state=21)"
   ]
  },
  {
   "cell_type": "code",
   "execution_count": 568,
   "id": "7f2d95d6",
   "metadata": {},
   "outputs": [
    {
     "data": {
      "text/html": [
       "<style>#sk-container-id-9 {color: black;background-color: white;}#sk-container-id-9 pre{padding: 0;}#sk-container-id-9 div.sk-toggleable {background-color: white;}#sk-container-id-9 label.sk-toggleable__label {cursor: pointer;display: block;width: 100%;margin-bottom: 0;padding: 0.3em;box-sizing: border-box;text-align: center;}#sk-container-id-9 label.sk-toggleable__label-arrow:before {content: \"▸\";float: left;margin-right: 0.25em;color: #696969;}#sk-container-id-9 label.sk-toggleable__label-arrow:hover:before {color: black;}#sk-container-id-9 div.sk-estimator:hover label.sk-toggleable__label-arrow:before {color: black;}#sk-container-id-9 div.sk-toggleable__content {max-height: 0;max-width: 0;overflow: hidden;text-align: left;background-color: #f0f8ff;}#sk-container-id-9 div.sk-toggleable__content pre {margin: 0.2em;color: black;border-radius: 0.25em;background-color: #f0f8ff;}#sk-container-id-9 input.sk-toggleable__control:checked~div.sk-toggleable__content {max-height: 200px;max-width: 100%;overflow: auto;}#sk-container-id-9 input.sk-toggleable__control:checked~label.sk-toggleable__label-arrow:before {content: \"▾\";}#sk-container-id-9 div.sk-estimator input.sk-toggleable__control:checked~label.sk-toggleable__label {background-color: #d4ebff;}#sk-container-id-9 div.sk-label input.sk-toggleable__control:checked~label.sk-toggleable__label {background-color: #d4ebff;}#sk-container-id-9 input.sk-hidden--visually {border: 0;clip: rect(1px 1px 1px 1px);clip: rect(1px, 1px, 1px, 1px);height: 1px;margin: -1px;overflow: hidden;padding: 0;position: absolute;width: 1px;}#sk-container-id-9 div.sk-estimator {font-family: monospace;background-color: #f0f8ff;border: 1px dotted black;border-radius: 0.25em;box-sizing: border-box;margin-bottom: 0.5em;}#sk-container-id-9 div.sk-estimator:hover {background-color: #d4ebff;}#sk-container-id-9 div.sk-parallel-item::after {content: \"\";width: 100%;border-bottom: 1px solid gray;flex-grow: 1;}#sk-container-id-9 div.sk-label:hover label.sk-toggleable__label {background-color: #d4ebff;}#sk-container-id-9 div.sk-serial::before {content: \"\";position: absolute;border-left: 1px solid gray;box-sizing: border-box;top: 0;bottom: 0;left: 50%;z-index: 0;}#sk-container-id-9 div.sk-serial {display: flex;flex-direction: column;align-items: center;background-color: white;padding-right: 0.2em;padding-left: 0.2em;position: relative;}#sk-container-id-9 div.sk-item {position: relative;z-index: 1;}#sk-container-id-9 div.sk-parallel {display: flex;align-items: stretch;justify-content: center;background-color: white;position: relative;}#sk-container-id-9 div.sk-item::before, #sk-container-id-9 div.sk-parallel-item::before {content: \"\";position: absolute;border-left: 1px solid gray;box-sizing: border-box;top: 0;bottom: 0;left: 50%;z-index: -1;}#sk-container-id-9 div.sk-parallel-item {display: flex;flex-direction: column;z-index: 1;position: relative;background-color: white;}#sk-container-id-9 div.sk-parallel-item:first-child::after {align-self: flex-end;width: 50%;}#sk-container-id-9 div.sk-parallel-item:last-child::after {align-self: flex-start;width: 50%;}#sk-container-id-9 div.sk-parallel-item:only-child::after {width: 0;}#sk-container-id-9 div.sk-dashed-wrapped {border: 1px dashed gray;margin: 0 0.4em 0.5em 0.4em;box-sizing: border-box;padding-bottom: 0.4em;background-color: white;}#sk-container-id-9 div.sk-label label {font-family: monospace;font-weight: bold;display: inline-block;line-height: 1.2em;}#sk-container-id-9 div.sk-label-container {text-align: center;}#sk-container-id-9 div.sk-container {/* jupyter's `normalize.less` sets `[hidden] { display: none; }` but bootstrap.min.css set `[hidden] { display: none !important; }` so we also need the `!important` here to be able to override the default hidden behavior on the sphinx rendered scikit-learn.org. See: https://github.com/scikit-learn/scikit-learn/issues/21755 */display: inline-block !important;position: relative;}#sk-container-id-9 div.sk-text-repr-fallback {display: none;}</style><div id=\"sk-container-id-9\" class=\"sk-top-container\"><div class=\"sk-text-repr-fallback\"><pre>LinearRegression()</pre><b>In a Jupyter environment, please rerun this cell to show the HTML representation or trust the notebook. <br />On GitHub, the HTML representation is unable to render, please try loading this page with nbviewer.org.</b></div><div class=\"sk-container\" hidden><div class=\"sk-item\"><div class=\"sk-estimator sk-toggleable\"><input class=\"sk-toggleable__control sk-hidden--visually\" id=\"sk-estimator-id-9\" type=\"checkbox\" checked><label for=\"sk-estimator-id-9\" class=\"sk-toggleable__label sk-toggleable__label-arrow\">LinearRegression</label><div class=\"sk-toggleable__content\"><pre>LinearRegression()</pre></div></div></div></div></div>"
      ],
      "text/plain": [
       "LinearRegression()"
      ]
     },
     "execution_count": 568,
     "metadata": {},
     "output_type": "execute_result"
    }
   ],
   "source": [
    "model = LinearRegression()\n",
    "model"
   ]
  },
  {
   "cell_type": "code",
   "execution_count": 569,
   "id": "2f6dfae9",
   "metadata": {},
   "outputs": [
    {
     "data": {
      "text/html": [
       "<style>#sk-container-id-10 {color: black;background-color: white;}#sk-container-id-10 pre{padding: 0;}#sk-container-id-10 div.sk-toggleable {background-color: white;}#sk-container-id-10 label.sk-toggleable__label {cursor: pointer;display: block;width: 100%;margin-bottom: 0;padding: 0.3em;box-sizing: border-box;text-align: center;}#sk-container-id-10 label.sk-toggleable__label-arrow:before {content: \"▸\";float: left;margin-right: 0.25em;color: #696969;}#sk-container-id-10 label.sk-toggleable__label-arrow:hover:before {color: black;}#sk-container-id-10 div.sk-estimator:hover label.sk-toggleable__label-arrow:before {color: black;}#sk-container-id-10 div.sk-toggleable__content {max-height: 0;max-width: 0;overflow: hidden;text-align: left;background-color: #f0f8ff;}#sk-container-id-10 div.sk-toggleable__content pre {margin: 0.2em;color: black;border-radius: 0.25em;background-color: #f0f8ff;}#sk-container-id-10 input.sk-toggleable__control:checked~div.sk-toggleable__content {max-height: 200px;max-width: 100%;overflow: auto;}#sk-container-id-10 input.sk-toggleable__control:checked~label.sk-toggleable__label-arrow:before {content: \"▾\";}#sk-container-id-10 div.sk-estimator input.sk-toggleable__control:checked~label.sk-toggleable__label {background-color: #d4ebff;}#sk-container-id-10 div.sk-label input.sk-toggleable__control:checked~label.sk-toggleable__label {background-color: #d4ebff;}#sk-container-id-10 input.sk-hidden--visually {border: 0;clip: rect(1px 1px 1px 1px);clip: rect(1px, 1px, 1px, 1px);height: 1px;margin: -1px;overflow: hidden;padding: 0;position: absolute;width: 1px;}#sk-container-id-10 div.sk-estimator {font-family: monospace;background-color: #f0f8ff;border: 1px dotted black;border-radius: 0.25em;box-sizing: border-box;margin-bottom: 0.5em;}#sk-container-id-10 div.sk-estimator:hover {background-color: #d4ebff;}#sk-container-id-10 div.sk-parallel-item::after {content: \"\";width: 100%;border-bottom: 1px solid gray;flex-grow: 1;}#sk-container-id-10 div.sk-label:hover label.sk-toggleable__label {background-color: #d4ebff;}#sk-container-id-10 div.sk-serial::before {content: \"\";position: absolute;border-left: 1px solid gray;box-sizing: border-box;top: 0;bottom: 0;left: 50%;z-index: 0;}#sk-container-id-10 div.sk-serial {display: flex;flex-direction: column;align-items: center;background-color: white;padding-right: 0.2em;padding-left: 0.2em;position: relative;}#sk-container-id-10 div.sk-item {position: relative;z-index: 1;}#sk-container-id-10 div.sk-parallel {display: flex;align-items: stretch;justify-content: center;background-color: white;position: relative;}#sk-container-id-10 div.sk-item::before, #sk-container-id-10 div.sk-parallel-item::before {content: \"\";position: absolute;border-left: 1px solid gray;box-sizing: border-box;top: 0;bottom: 0;left: 50%;z-index: -1;}#sk-container-id-10 div.sk-parallel-item {display: flex;flex-direction: column;z-index: 1;position: relative;background-color: white;}#sk-container-id-10 div.sk-parallel-item:first-child::after {align-self: flex-end;width: 50%;}#sk-container-id-10 div.sk-parallel-item:last-child::after {align-self: flex-start;width: 50%;}#sk-container-id-10 div.sk-parallel-item:only-child::after {width: 0;}#sk-container-id-10 div.sk-dashed-wrapped {border: 1px dashed gray;margin: 0 0.4em 0.5em 0.4em;box-sizing: border-box;padding-bottom: 0.4em;background-color: white;}#sk-container-id-10 div.sk-label label {font-family: monospace;font-weight: bold;display: inline-block;line-height: 1.2em;}#sk-container-id-10 div.sk-label-container {text-align: center;}#sk-container-id-10 div.sk-container {/* jupyter's `normalize.less` sets `[hidden] { display: none; }` but bootstrap.min.css set `[hidden] { display: none !important; }` so we also need the `!important` here to be able to override the default hidden behavior on the sphinx rendered scikit-learn.org. See: https://github.com/scikit-learn/scikit-learn/issues/21755 */display: inline-block !important;position: relative;}#sk-container-id-10 div.sk-text-repr-fallback {display: none;}</style><div id=\"sk-container-id-10\" class=\"sk-top-container\"><div class=\"sk-text-repr-fallback\"><pre>LinearRegression()</pre><b>In a Jupyter environment, please rerun this cell to show the HTML representation or trust the notebook. <br />On GitHub, the HTML representation is unable to render, please try loading this page with nbviewer.org.</b></div><div class=\"sk-container\" hidden><div class=\"sk-item\"><div class=\"sk-estimator sk-toggleable\"><input class=\"sk-toggleable__control sk-hidden--visually\" id=\"sk-estimator-id-10\" type=\"checkbox\" checked><label for=\"sk-estimator-id-10\" class=\"sk-toggleable__label sk-toggleable__label-arrow\">LinearRegression</label><div class=\"sk-toggleable__content\"><pre>LinearRegression()</pre></div></div></div></div></div>"
      ],
      "text/plain": [
       "LinearRegression()"
      ]
     },
     "execution_count": 569,
     "metadata": {},
     "output_type": "execute_result"
    }
   ],
   "source": [
    "model.fit(x_train,y_train)"
   ]
  },
  {
   "cell_type": "markdown",
   "id": "a6a33a20",
   "metadata": {},
   "source": [
    "## Model Evaluation"
   ]
  },
  {
   "cell_type": "code",
   "execution_count": 570,
   "id": "aca0dcc3",
   "metadata": {},
   "outputs": [
    {
     "name": "stdout",
     "output_type": "stream",
     "text": [
      "MSE : 12950.130975184036\n",
      "RMSE : 113.79864223787574\n",
      "MAE : 57.3528348276688\n",
      "R Squared : 0.18932614373524803\n"
     ]
    }
   ],
   "source": [
    "# Testing Dataset\n",
    "y_pred = model.predict(x_test)\n",
    "\n",
    "mse = mean_squared_error(y_test, y_pred)\n",
    "print(\"MSE :\",mse)\n",
    "\n",
    "rmse = np.sqrt(mse)\n",
    "print(\"RMSE :\",rmse)\n",
    "\n",
    "mae = mean_absolute_error(y_test, y_pred)\n",
    "print(\"MAE :\",mae)\n",
    "\n",
    "r2 = r2_score(y_test, y_pred)\n",
    "print(\"R Squared :\",r2)"
   ]
  },
  {
   "cell_type": "code",
   "execution_count": 571,
   "id": "2fb8236b",
   "metadata": {},
   "outputs": [
    {
     "name": "stdout",
     "output_type": "stream",
     "text": [
      "MSE : 20347.870095570623\n",
      "RMSE : 142.64596067036257\n",
      "MAE : 59.3567642186252\n",
      "R Squared : 0.14304748455747063\n"
     ]
    }
   ],
   "source": [
    "# training Data Set\n",
    "y_pred_train = model.predict(x_train)\n",
    "\n",
    "mse = mean_squared_error(y_train, y_pred_train)\n",
    "print(\"MSE :\",mse)\n",
    "\n",
    "rmse = np.sqrt(mse)\n",
    "print(\"RMSE :\",rmse)\n",
    "\n",
    "mae = mean_absolute_error(y_train, y_pred_train)\n",
    "print(\"MAE :\",mae)\n",
    "\n",
    "r2 = r2_score(y_train, y_pred_train)\n",
    "print(\"R Squared :\",r2)"
   ]
  },
  {
   "cell_type": "code",
   "execution_count": 572,
   "id": "6204d5a8",
   "metadata": {},
   "outputs": [
    {
     "name": "stdout",
     "output_type": "stream",
     "text": [
      "{'(1, 1)': 0, '(14, 11)': 1, '(14, 7)': 2, '(15, 10)': 3, '(15, 11)': 4, '(15, 12)': 5, '(15, 6)': 6, '(15, 8)': 7, '(16, 1)': 8, '(16, 10)': 9, '(16, 11)': 10, '(16, 12)': 11, '(16, 3)': 12, '(16, 7)': 13, '(16, 9)': 14, '(17, 1)': 15, '(17, 10)': 16, '(17, 11)': 17, '(17, 12)': 18, '(17, 2)': 19, '(17, 3)': 20, '(17, 4)': 21, '(17, 5)': 22, '(17, 6)': 23, '(17, 7)': 24, '(17, 8)': 25, '(17, 9)': 26, '(18, 1)': 27, '(18, 10)': 28, '(18, 11)': 29, '(18, 12)': 30, '(18, 2)': 31, '(18, 3)': 32, '(18, 4)': 33, '(18, 5)': 34, '(18, 6)': 35, '(18, 7)': 36, '(18, 8)': 37, '(18, 9)': 38, '(19, 1)': 39, '(19, 10)': 40, '(19, 11)': 41, '(19, 12)': 42, '(19, 2)': 43, '(19, 3)': 44, '(19, 4)': 45, '(19, 5)': 46, '(19, 6)': 47, '(19, 7)': 48, '(19, 8)': 49, '(19, 9)': 50, '(2, 1)': 51, '(20, 1)': 52, '(20, 10)': 53, '(20, 11)': 54, '(20, 12)': 55, '(20, 2)': 56, '(20, 3)': 57, '(20, 4)': 58, '(20, 5)': 59, '(20, 6)': 60, '(20, 7)': 61, '(20, 8)': 62, '(20, 9)': 63, '(21, 1)': 64, '(21, 10)': 65, '(21, 11)': 66, '(21, 12)': 67, '(21, 2)': 68, '(21, 3)': 69, '(21, 5)': 70, '(21, 6)': 71, '(21, 7)': 72, '(21, 8)': 73, '(21, 9)': 74, '(22, 1)': 75, '(22, 11)': 76, '(22, 12)': 77, '(22, 3)': 78, '(22, 5)': 79, '(22, 6)': 80}\n",
      "{'1 RK': 0, '1 Bedroom': 1, '2 Bedroom': 2, '3 Bedroom': 3, '4 Bedroom': 4, '1 BHK': 5, '5 Bedroom': 6, '2 BHK': 7, '6 Bedroom': 8, '3 BHK': 9, '4 BHK': 10, '7 Bedroom': 11, '8 Bedroom': 12, '5 BHK': 13, '9 Bedroom': 14, '6 BHK': 15, '7 BHK': 16, '10 Bedroom': 17, '8 BHK': 18, '11 Bedroom': 19, '12 Bedroom': 20, '9 BHK': 21, '10 BHK': 22, '11 BHK': 23, '13 BHK': 24, '14 BHK': 25, '18 Bedroom': 26, '16 BHK': 27, '19 BHK': 28, '27 BHK': 29, '43 Bedroom': 30}\n"
     ]
    }
   ],
   "source": [
    "availability_dict\n",
    "size_dict\n",
    "print(availability_dict)\n",
    "print(size_dict)"
   ]
  },
  {
   "cell_type": "code",
   "execution_count": 573,
   "id": "6f60d581",
   "metadata": {},
   "outputs": [],
   "source": [
    "### Test model on single row"
   ]
  },
  {
   "cell_type": "code",
   "execution_count": 574,
   "id": "f5114bb1",
   "metadata": {},
   "outputs": [
    {
     "data": {
      "text/html": [
       "<div>\n",
       "<style scoped>\n",
       "    .dataframe tbody tr th:only-of-type {\n",
       "        vertical-align: middle;\n",
       "    }\n",
       "\n",
       "    .dataframe tbody tr th {\n",
       "        vertical-align: top;\n",
       "    }\n",
       "\n",
       "    .dataframe thead th {\n",
       "        text-align: right;\n",
       "    }\n",
       "</style>\n",
       "<table border=\"1\" class=\"dataframe\">\n",
       "  <thead>\n",
       "    <tr style=\"text-align: right;\">\n",
       "      <th></th>\n",
       "      <th>0</th>\n",
       "    </tr>\n",
       "  </thead>\n",
       "  <tbody>\n",
       "    <tr>\n",
       "      <th>availability</th>\n",
       "      <td>42.00</td>\n",
       "    </tr>\n",
       "    <tr>\n",
       "      <th>size</th>\n",
       "      <td>7.00</td>\n",
       "    </tr>\n",
       "    <tr>\n",
       "      <th>total_sqft</th>\n",
       "      <td>1056.00</td>\n",
       "    </tr>\n",
       "    <tr>\n",
       "      <th>bath</th>\n",
       "      <td>2.00</td>\n",
       "    </tr>\n",
       "    <tr>\n",
       "      <th>balcony</th>\n",
       "      <td>1.00</td>\n",
       "    </tr>\n",
       "    <tr>\n",
       "      <th>price</th>\n",
       "      <td>39.07</td>\n",
       "    </tr>\n",
       "    <tr>\n",
       "      <th>area_type_Built_up_Area</th>\n",
       "      <td>0.00</td>\n",
       "    </tr>\n",
       "    <tr>\n",
       "      <th>area_type_Carpet_Area</th>\n",
       "      <td>0.00</td>\n",
       "    </tr>\n",
       "    <tr>\n",
       "      <th>area_type_Plot_Area</th>\n",
       "      <td>0.00</td>\n",
       "    </tr>\n",
       "    <tr>\n",
       "      <th>area_type_Super_built_up_Area</th>\n",
       "      <td>1.00</td>\n",
       "    </tr>\n",
       "  </tbody>\n",
       "</table>\n",
       "</div>"
      ],
      "text/plain": [
       "                                     0\n",
       "availability                     42.00\n",
       "size                              7.00\n",
       "total_sqft                     1056.00\n",
       "bath                              2.00\n",
       "balcony                           1.00\n",
       "price                            39.07\n",
       "area_type_Built_up_Area           0.00\n",
       "area_type_Carpet_Area             0.00\n",
       "area_type_Plot_Area               0.00\n",
       "area_type_Super_built_up_Area     1.00"
      ]
     },
     "execution_count": 574,
     "metadata": {},
     "output_type": "execute_result"
    }
   ],
   "source": [
    "df.head(1).T"
   ]
  },
  {
   "cell_type": "code",
   "execution_count": 579,
   "id": "2dd5bbda",
   "metadata": {},
   "outputs": [],
   "source": [
    "availability = '(14, 11)'\n",
    "size = '1 RK'\n",
    "total_sqft = 1056.00\n",
    "bath = 2.00\n",
    "balcony = 1.00\n",
    "\n",
    "area_type = \"Built_up_Area\"\n",
    "\n"
   ]
  },
  {
   "cell_type": "code",
   "execution_count": 580,
   "id": "ca73b79e",
   "metadata": {},
   "outputs": [
    {
     "data": {
      "text/plain": [
       "0"
      ]
     },
     "execution_count": 580,
     "metadata": {},
     "output_type": "execute_result"
    }
   ],
   "source": [
    "size_dict[size]"
   ]
  },
  {
   "cell_type": "code",
   "execution_count": 581,
   "id": "5238cde5",
   "metadata": {},
   "outputs": [
    {
     "data": {
      "text/plain": [
       "{'(1, 1)': 0,\n",
       " '(14, 11)': 1,\n",
       " '(14, 7)': 2,\n",
       " '(15, 10)': 3,\n",
       " '(15, 11)': 4,\n",
       " '(15, 12)': 5,\n",
       " '(15, 6)': 6,\n",
       " '(15, 8)': 7,\n",
       " '(16, 1)': 8,\n",
       " '(16, 10)': 9,\n",
       " '(16, 11)': 10,\n",
       " '(16, 12)': 11,\n",
       " '(16, 3)': 12,\n",
       " '(16, 7)': 13,\n",
       " '(16, 9)': 14,\n",
       " '(17, 1)': 15,\n",
       " '(17, 10)': 16,\n",
       " '(17, 11)': 17,\n",
       " '(17, 12)': 18,\n",
       " '(17, 2)': 19,\n",
       " '(17, 3)': 20,\n",
       " '(17, 4)': 21,\n",
       " '(17, 5)': 22,\n",
       " '(17, 6)': 23,\n",
       " '(17, 7)': 24,\n",
       " '(17, 8)': 25,\n",
       " '(17, 9)': 26,\n",
       " '(18, 1)': 27,\n",
       " '(18, 10)': 28,\n",
       " '(18, 11)': 29,\n",
       " '(18, 12)': 30,\n",
       " '(18, 2)': 31,\n",
       " '(18, 3)': 32,\n",
       " '(18, 4)': 33,\n",
       " '(18, 5)': 34,\n",
       " '(18, 6)': 35,\n",
       " '(18, 7)': 36,\n",
       " '(18, 8)': 37,\n",
       " '(18, 9)': 38,\n",
       " '(19, 1)': 39,\n",
       " '(19, 10)': 40,\n",
       " '(19, 11)': 41,\n",
       " '(19, 12)': 42,\n",
       " '(19, 2)': 43,\n",
       " '(19, 3)': 44,\n",
       " '(19, 4)': 45,\n",
       " '(19, 5)': 46,\n",
       " '(19, 6)': 47,\n",
       " '(19, 7)': 48,\n",
       " '(19, 8)': 49,\n",
       " '(19, 9)': 50,\n",
       " '(2, 1)': 51,\n",
       " '(20, 1)': 52,\n",
       " '(20, 10)': 53,\n",
       " '(20, 11)': 54,\n",
       " '(20, 12)': 55,\n",
       " '(20, 2)': 56,\n",
       " '(20, 3)': 57,\n",
       " '(20, 4)': 58,\n",
       " '(20, 5)': 59,\n",
       " '(20, 6)': 60,\n",
       " '(20, 7)': 61,\n",
       " '(20, 8)': 62,\n",
       " '(20, 9)': 63,\n",
       " '(21, 1)': 64,\n",
       " '(21, 10)': 65,\n",
       " '(21, 11)': 66,\n",
       " '(21, 12)': 67,\n",
       " '(21, 2)': 68,\n",
       " '(21, 3)': 69,\n",
       " '(21, 5)': 70,\n",
       " '(21, 6)': 71,\n",
       " '(21, 7)': 72,\n",
       " '(21, 8)': 73,\n",
       " '(21, 9)': 74,\n",
       " '(22, 1)': 75,\n",
       " '(22, 11)': 76,\n",
       " '(22, 12)': 77,\n",
       " '(22, 3)': 78,\n",
       " '(22, 5)': 79,\n",
       " '(22, 6)': 80}"
      ]
     },
     "execution_count": 581,
     "metadata": {},
     "output_type": "execute_result"
    }
   ],
   "source": [
    "availability_dict"
   ]
  },
  {
   "cell_type": "code",
   "execution_count": 582,
   "id": "9b4b9c99",
   "metadata": {},
   "outputs": [
    {
     "data": {
      "text/plain": [
       "1"
      ]
     },
     "execution_count": 582,
     "metadata": {},
     "output_type": "execute_result"
    }
   ],
   "source": [
    "availability_dict[availability]"
   ]
  },
  {
   "cell_type": "code",
   "execution_count": 583,
   "id": "77974ab5",
   "metadata": {},
   "outputs": [
    {
     "data": {
      "text/plain": [
       "Index(['availability', 'size', 'total_sqft', 'bath', 'balcony',\n",
       "       'area_type_Built_up_Area', 'area_type_Carpet_Area',\n",
       "       'area_type_Plot_Area', 'area_type_Super_built_up_Area'],\n",
       "      dtype='object')"
      ]
     },
     "execution_count": 583,
     "metadata": {},
     "output_type": "execute_result"
    }
   ],
   "source": [
    "column_name = x.columns\n",
    "column_name"
   ]
  },
  {
   "cell_type": "code",
   "execution_count": 584,
   "id": "234faf59",
   "metadata": {},
   "outputs": [
    {
     "data": {
      "text/plain": [
       "'area_type_Built_up_Area'"
      ]
     },
     "execution_count": 584,
     "metadata": {},
     "output_type": "execute_result"
    }
   ],
   "source": [
    "area_type_col = \"area_type_\" + area_type\n",
    "area_type_col"
   ]
  },
  {
   "cell_type": "code",
   "execution_count": 585,
   "id": "d322c88f",
   "metadata": {},
   "outputs": [
    {
     "data": {
      "text/plain": [
       "5"
      ]
     },
     "execution_count": 585,
     "metadata": {},
     "output_type": "execute_result"
    }
   ],
   "source": [
    "area_type_index = np.where(column_name == area_type_col )[0][0]\n",
    "area_type_index"
   ]
  },
  {
   "cell_type": "code",
   "execution_count": 586,
   "id": "df4e98dc",
   "metadata": {},
   "outputs": [
    {
     "data": {
      "text/plain": [
       "array([0, 0, 0, 0, 0, 0, 0, 0, 0])"
      ]
     },
     "execution_count": 586,
     "metadata": {},
     "output_type": "execute_result"
    }
   ],
   "source": [
    "array = np.zeros(len(column_name),dtype=int)\n",
    "array"
   ]
  },
  {
   "cell_type": "code",
   "execution_count": 588,
   "id": "a94f9bf6",
   "metadata": {},
   "outputs": [
    {
     "data": {
      "text/plain": [
       "array([   1,    0, 1056,    2,    1,    1,    0,    0,    0])"
      ]
     },
     "execution_count": 588,
     "metadata": {},
     "output_type": "execute_result"
    }
   ],
   "source": [
    "array[0] = availability_dict[availability]\n",
    "array[1] = size_dict[size]\n",
    "array[2] = 1056.00\n",
    "array[3] = 2.00\n",
    "array[4] = 1.00\n",
    "array[area_type_index] = 1\n",
    "array"
   ]
  },
  {
   "cell_type": "code",
   "execution_count": 590,
   "id": "8e75f6aa",
   "metadata": {},
   "outputs": [
    {
     "data": {
      "text/plain": [
       "0"
      ]
     },
     "execution_count": 590,
     "metadata": {},
     "output_type": "execute_result"
    }
   ],
   "source": [
    "availability = '(1, 1)'\n",
    "availability_dict[availability]"
   ]
  },
  {
   "cell_type": "code",
   "execution_count": 591,
   "id": "f5e99f78",
   "metadata": {},
   "outputs": [
    {
     "data": {
      "text/plain": [
       "array([   0,    0, 1056,    2,    1,    1,    0,    0,    0])"
      ]
     },
     "execution_count": 591,
     "metadata": {},
     "output_type": "execute_result"
    }
   ],
   "source": [
    "array[0] = availability_dict[availability]\n",
    "array"
   ]
  },
  {
   "cell_type": "code",
   "execution_count": 594,
   "id": "be437798",
   "metadata": {},
   "outputs": [
    {
     "data": {
      "text/plain": [
       "83.75488901653121"
      ]
     },
     "execution_count": 594,
     "metadata": {},
     "output_type": "execute_result"
    }
   ],
   "source": [
    "y_prediction = model.predict([array])[0]\n",
    "y_prediction"
   ]
  },
  {
   "cell_type": "code",
   "execution_count": 595,
   "id": "78618104",
   "metadata": {},
   "outputs": [
    {
     "data": {
      "text/plain": [
       "{'availability_dict': {'(1, 1)': 0,\n",
       "  '(14, 11)': 1,\n",
       "  '(14, 7)': 2,\n",
       "  '(15, 10)': 3,\n",
       "  '(15, 11)': 4,\n",
       "  '(15, 12)': 5,\n",
       "  '(15, 6)': 6,\n",
       "  '(15, 8)': 7,\n",
       "  '(16, 1)': 8,\n",
       "  '(16, 10)': 9,\n",
       "  '(16, 11)': 10,\n",
       "  '(16, 12)': 11,\n",
       "  '(16, 3)': 12,\n",
       "  '(16, 7)': 13,\n",
       "  '(16, 9)': 14,\n",
       "  '(17, 1)': 15,\n",
       "  '(17, 10)': 16,\n",
       "  '(17, 11)': 17,\n",
       "  '(17, 12)': 18,\n",
       "  '(17, 2)': 19,\n",
       "  '(17, 3)': 20,\n",
       "  '(17, 4)': 21,\n",
       "  '(17, 5)': 22,\n",
       "  '(17, 6)': 23,\n",
       "  '(17, 7)': 24,\n",
       "  '(17, 8)': 25,\n",
       "  '(17, 9)': 26,\n",
       "  '(18, 1)': 27,\n",
       "  '(18, 10)': 28,\n",
       "  '(18, 11)': 29,\n",
       "  '(18, 12)': 30,\n",
       "  '(18, 2)': 31,\n",
       "  '(18, 3)': 32,\n",
       "  '(18, 4)': 33,\n",
       "  '(18, 5)': 34,\n",
       "  '(18, 6)': 35,\n",
       "  '(18, 7)': 36,\n",
       "  '(18, 8)': 37,\n",
       "  '(18, 9)': 38,\n",
       "  '(19, 1)': 39,\n",
       "  '(19, 10)': 40,\n",
       "  '(19, 11)': 41,\n",
       "  '(19, 12)': 42,\n",
       "  '(19, 2)': 43,\n",
       "  '(19, 3)': 44,\n",
       "  '(19, 4)': 45,\n",
       "  '(19, 5)': 46,\n",
       "  '(19, 6)': 47,\n",
       "  '(19, 7)': 48,\n",
       "  '(19, 8)': 49,\n",
       "  '(19, 9)': 50,\n",
       "  '(2, 1)': 51,\n",
       "  '(20, 1)': 52,\n",
       "  '(20, 10)': 53,\n",
       "  '(20, 11)': 54,\n",
       "  '(20, 12)': 55,\n",
       "  '(20, 2)': 56,\n",
       "  '(20, 3)': 57,\n",
       "  '(20, 4)': 58,\n",
       "  '(20, 5)': 59,\n",
       "  '(20, 6)': 60,\n",
       "  '(20, 7)': 61,\n",
       "  '(20, 8)': 62,\n",
       "  '(20, 9)': 63,\n",
       "  '(21, 1)': 64,\n",
       "  '(21, 10)': 65,\n",
       "  '(21, 11)': 66,\n",
       "  '(21, 12)': 67,\n",
       "  '(21, 2)': 68,\n",
       "  '(21, 3)': 69,\n",
       "  '(21, 5)': 70,\n",
       "  '(21, 6)': 71,\n",
       "  '(21, 7)': 72,\n",
       "  '(21, 8)': 73,\n",
       "  '(21, 9)': 74,\n",
       "  '(22, 1)': 75,\n",
       "  '(22, 11)': 76,\n",
       "  '(22, 12)': 77,\n",
       "  '(22, 3)': 78,\n",
       "  '(22, 5)': 79,\n",
       "  '(22, 6)': 80},\n",
       " 'size_dict': {'1 RK': 0,\n",
       "  '1 Bedroom': 1,\n",
       "  '2 Bedroom': 2,\n",
       "  '3 Bedroom': 3,\n",
       "  '4 Bedroom': 4,\n",
       "  '1 BHK': 5,\n",
       "  '5 Bedroom': 6,\n",
       "  '2 BHK': 7,\n",
       "  '6 Bedroom': 8,\n",
       "  '3 BHK': 9,\n",
       "  '4 BHK': 10,\n",
       "  '7 Bedroom': 11,\n",
       "  '8 Bedroom': 12,\n",
       "  '5 BHK': 13,\n",
       "  '9 Bedroom': 14,\n",
       "  '6 BHK': 15,\n",
       "  '7 BHK': 16,\n",
       "  '10 Bedroom': 17,\n",
       "  '8 BHK': 18,\n",
       "  '11 Bedroom': 19,\n",
       "  '12 Bedroom': 20,\n",
       "  '9 BHK': 21,\n",
       "  '10 BHK': 22,\n",
       "  '11 BHK': 23,\n",
       "  '13 BHK': 24,\n",
       "  '14 BHK': 25,\n",
       "  '18 Bedroom': 26,\n",
       "  '16 BHK': 27,\n",
       "  '19 BHK': 28,\n",
       "  '27 BHK': 29,\n",
       "  '43 Bedroom': 30},\n",
       " 'column_name': ['availability',\n",
       "  'size',\n",
       "  'total_sqft',\n",
       "  'bath',\n",
       "  'balcony',\n",
       "  'area_type_Built_up_Area',\n",
       "  'area_type_Carpet_Area',\n",
       "  'area_type_Plot_Area',\n",
       "  'area_type_Super_built_up_Area']}"
      ]
     },
     "execution_count": 595,
     "metadata": {},
     "output_type": "execute_result"
    }
   ],
   "source": [
    "data = {\"availability_dict\":availability_dict,\"size_dict\":size_dict,\n",
    "       \"column_name\":list(column_name)}\n",
    "data"
   ]
  },
  {
   "cell_type": "code",
   "execution_count": 596,
   "id": "67e7e89d",
   "metadata": {},
   "outputs": [],
   "source": [
    "import json \n",
    "\n",
    "with open(\"data.json\",\"w\")as f:\n",
    "    json.dump(data,f)"
   ]
  },
  {
   "cell_type": "code",
   "execution_count": 597,
   "id": "ae378fae",
   "metadata": {},
   "outputs": [],
   "source": [
    "import pickle\n",
    "\n",
    "with open(\"model.pkl\",\"wb\")as f:\n",
    "    pickle.dump(model,f)"
   ]
  },
  {
   "cell_type": "code",
   "execution_count": 599,
   "id": "ad9febd9",
   "metadata": {},
   "outputs": [
    {
     "data": {
      "text/plain": [
       "array([42,  0, 34, 31, 29, 55, 16, 67, 50, 63, 32, 56, 33, 62, 28, 44, 26,\n",
       "       30, 25, 45, 35, 77, 75, 37, 39, 24, 36, 71, 59, 49, 38, 22, 23, 70,\n",
       "       27, 57, 18, 12, 47, 80, 48, 68, 51, 46, 17, 53, 60, 43, 65, 64, 20,\n",
       "       21, 79, 40, 72, 66, 69, 11, 78, 52, 74, 73,  1, 41,  4, 13,  6, 19,\n",
       "       54, 61, 14,  3,  5,  9, 76,  7, 15, 10, 58,  8,  2], dtype=int64)"
      ]
     },
     "execution_count": 599,
     "metadata": {},
     "output_type": "execute_result"
    }
   ],
   "source": [
    "df[\"availability\"].unique()"
   ]
  },
  {
   "cell_type": "code",
   "execution_count": null,
   "id": "c454524b",
   "metadata": {},
   "outputs": [],
   "source": []
  },
  {
   "cell_type": "code",
   "execution_count": null,
   "id": "525bd2f8",
   "metadata": {},
   "outputs": [],
   "source": []
  }
 ],
 "metadata": {
  "kernelspec": {
   "display_name": "Python 3 (ipykernel)",
   "language": "python",
   "name": "python3"
  },
  "language_info": {
   "codemirror_mode": {
    "name": "ipython",
    "version": 3
   },
   "file_extension": ".py",
   "mimetype": "text/x-python",
   "name": "python",
   "nbconvert_exporter": "python",
   "pygments_lexer": "ipython3",
   "version": "3.9.12"
  }
 },
 "nbformat": 4,
 "nbformat_minor": 5
}
